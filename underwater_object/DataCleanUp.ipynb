{
 "cells": [
  {
   "cell_type": "code",
   "execution_count": 1,
   "id": "041e335a-cd04-4f06-b733-b01ba9fe946e",
   "metadata": {
    "execution": {
     "iopub.execute_input": "2023-10-02T00:49:09.099096Z",
     "iopub.status.busy": "2023-10-02T00:49:09.097233Z",
     "iopub.status.idle": "2023-10-02T00:49:09.562135Z",
     "shell.execute_reply": "2023-10-02T00:49:09.561865Z",
     "shell.execute_reply.started": "2023-10-02T00:49:09.097781Z"
    }
   },
   "outputs": [],
   "source": [
    "import glob\n",
    "import os\n",
    "\n",
    "import cv2 as cv\n",
    "import matplotlib.pyplot as plt\n",
    "import numpy as np\n",
    "import pandas as pd"
   ]
  },
  {
   "cell_type": "code",
   "execution_count": 2,
   "id": "74730790-3fba-4a02-899b-b322d035ab47",
   "metadata": {
    "execution": {
     "iopub.execute_input": "2023-09-19T03:32:37.668832Z",
     "iopub.status.busy": "2023-09-19T03:32:37.668147Z",
     "iopub.status.idle": "2023-09-19T03:32:37.679782Z",
     "shell.execute_reply": "2023-09-19T03:32:37.678186Z",
     "shell.execute_reply.started": "2023-09-19T03:32:37.668792Z"
    }
   },
   "outputs": [],
   "source": [
    "def open_camera():\n",
    "    cap = cv.VideoCapture(0)\n",
    "    if not cap.isOpened():\n",
    "        print(\"Cannot open camera\")\n",
    "        exit()\n",
    "    while True:\n",
    "        # Capture frame-by-frame\n",
    "        ret, frame = cap.read()\n",
    "        # if frame is read correctly ret is True\n",
    "        if not ret:\n",
    "            print(\"Can't receive frame (stream end?). Exiting ...\")\n",
    "            break\n",
    "        # Our operations on the frame come here\n",
    "        gray = cv.cvtColor(frame, cv.COLOR_BGR2GRAY)\n",
    "        # Display the resulting frame\n",
    "        cv.imshow(\"frame\", gray)\n",
    "        if cv.waitKey(1) == ord(\"q\"):\n",
    "            break\n",
    "    # When everything done, release the capture\n",
    "    cap.release()\n",
    "    cv.destroyAllWindows()"
   ]
  },
  {
   "cell_type": "code",
   "execution_count": 3,
   "id": "6a176ec1-5c9a-424e-8862-5400f6ccf2eb",
   "metadata": {
    "execution": {
     "iopub.execute_input": "2023-09-19T03:32:38.037378Z",
     "iopub.status.busy": "2023-09-19T03:32:38.036726Z",
     "iopub.status.idle": "2023-09-19T03:32:38.050067Z",
     "shell.execute_reply": "2023-09-19T03:32:38.049057Z",
     "shell.execute_reply.started": "2023-09-19T03:32:38.037348Z"
    }
   },
   "outputs": [],
   "source": [
    "data = glob.glob(\"UOT100/*/\")\n",
    "\n",
    "video_input = \"UOT100/ArmyDiver1/ArmyDiver1.mp4\"\n",
    "annotation = \"UOT100/ArmyDiver1/groundtruth_rect.txt\"\n",
    "\n",
    "df = pd.read_csv(annotation, sep=\"\\t\", header=None)"
   ]
  },
  {
   "cell_type": "code",
   "execution_count": 4,
   "id": "f61f8287-7765-4541-becf-ad8372b5dd5d",
   "metadata": {
    "execution": {
     "iopub.execute_input": "2023-10-02T02:21:34.038764Z",
     "iopub.status.busy": "2023-10-02T02:21:34.038214Z",
     "iopub.status.idle": "2023-10-02T02:21:34.043293Z",
     "shell.execute_reply": "2023-10-02T02:21:34.042686Z",
     "shell.execute_reply.started": "2023-10-02T02:21:34.038736Z"
    }
   },
   "outputs": [],
   "source": [
    "labels_dict = {\n",
    "    \"turtle\": 0,\n",
    "    \"human\": 1,\n",
    "    \"fish\": 2,\n",
    "    \"octopus\": 3,\n",
    "    \"squid\": 4,\n",
    "    \"whale\": 5,\n",
    "    \"shark\": 6,\n",
    "    \"manta\": 7,\n",
    "    \"dive\": 1,\n",
    "    \"dolphin\": 8,\n",
    "    \"eel\": 9,\n",
    "    \"shrimp\": 10,\n",
    "    \"diving\": 2,\n",
    "}"
   ]
  },
  {
   "cell_type": "code",
   "execution_count": 5,
   "id": "55a59c4c-ffd7-428d-971c-20a0d18c806c",
   "metadata": {
    "execution": {
     "iopub.execute_input": "2023-10-02T02:21:09.652946Z",
     "iopub.status.busy": "2023-10-02T02:21:09.652372Z",
     "iopub.status.idle": "2023-10-02T02:21:09.657496Z",
     "shell.execute_reply": "2023-10-02T02:21:09.656894Z",
     "shell.execute_reply.started": "2023-10-02T02:21:09.652916Z"
    }
   },
   "outputs": [
    {
     "name": "stdout",
     "output_type": "stream",
     "text": [
      "0: turtle\n",
      "1: human\n",
      "2: fish\n",
      "3: octopus\n",
      "4: squid\n",
      "5: whale\n",
      "6: shark\n",
      "7: manta\n",
      "1: dive\n",
      "8: dolphin\n",
      "9: eel\n",
      "10: shrimp\n",
      "2: diving\n"
     ]
    }
   ],
   "source": [
    "for k, v in labels_dict.items():\n",
    "    print(f\"{v}: {k}\")"
   ]
  },
  {
   "cell_type": "code",
   "execution_count": 6,
   "id": "474da426-0d61-4c76-86d8-db37f1387881",
   "metadata": {
    "execution": {
     "iopub.execute_input": "2023-10-02T03:31:26.381628Z",
     "iopub.status.busy": "2023-10-02T03:31:26.380978Z",
     "iopub.status.idle": "2023-10-02T03:31:26.398552Z",
     "shell.execute_reply": "2023-10-02T03:31:26.397464Z",
     "shell.execute_reply.started": "2023-10-02T03:31:26.381593Z"
    }
   },
   "outputs": [],
   "source": [
    "import os\n",
    "import random\n",
    "import shutil\n",
    "\n",
    "\n",
    "def create_annotated_images(video_folder, labels_dict, prefix, img_count=10):\n",
    "    label_name = video_folder.lower()\n",
    "    ground_truth = pd.read_csv(\n",
    "        os.path.join(video_folder, \"groundtruth_rect.txt\"), sep=\"\\t\", header=None\n",
    "    )\n",
    "    detected_label = None\n",
    "    for label, idx in labels_dict.items():\n",
    "        if label in label_name:\n",
    "            detected_label = str(idx)\n",
    "            break\n",
    "\n",
    "    if not detected_label:\n",
    "        print(f\"Label NOT FOUND for {video_folder}\")\n",
    "        return\n",
    "\n",
    "    image_list = sorted(glob.glob(os.path.join(video_folder, \"img/frame*\")))\n",
    "    if not image_list:\n",
    "        print(f\"IMAGES NOT FOUND for {video_folder}\")\n",
    "        return\n",
    "    img_height, img_width = plt.imread(image_list[0]).shape[:2]\n",
    "    random.shuffle(image_list)\n",
    "    selected = image_list[:img_count]\n",
    "\n",
    "    create_dataset = True\n",
    "    for img in selected:\n",
    "        base_name = os.path.basename(img)\n",
    "        label_idx = int(base_name.removeprefix(\"frame\").removesuffix(\".jpg\"))\n",
    "        new_img_name = f\"{prefix:08}{label_idx}\"\n",
    "        if label_idx >= ground_truth.shape[0]:\n",
    "            continue\n",
    "        x1, y1, rec_width, rec_height = [\n",
    "            int(val) for val in ground_truth.loc[label_idx].tolist()\n",
    "        ]\n",
    "        norm_x1 = x1 / img_width\n",
    "        norm_rec_width = rec_width / img_width\n",
    "        norm_y1 = y1 / img_height\n",
    "        norm_rec_height = rec_height / img_height\n",
    "        bounding_rect = f\"{norm_x1 + norm_rec_width / 2} {norm_y1 + norm_rec_height / 2} {norm_rec_width} {norm_rec_height}\"\n",
    "\n",
    "        new_img_path = f\"/Users/javkhlan-ochirganbat/repos/machine-learning/ultralytics_demo/custom_dataset/UOT100Images/images/uot100/{new_img_name}.jpg\"\n",
    "        if create_dataset:\n",
    "            shutil.copy(img, new_img_path)\n",
    "            new_label_path = f\"/Users/javkhlan-ochirganbat/repos/machine-learning/ultralytics_demo/custom_dataset/UOT100Images/labels/uot100/{new_img_name}.txt\"\n",
    "            with open(new_label_path, \"w\") as outfile:\n",
    "                outfile.write(f\"{detected_label} {bounding_rect}\\n\")\n",
    "            # print(detected_label, new_img_path, label_idx, label_value)\n",
    "    return detected_label\n",
    "\n",
    "\n",
    "# create_annotated_images(\"UOT100/AntiguaTurtle\", labels_dict=labels_dict, prefix=1)"
   ]
  },
  {
   "cell_type": "code",
   "execution_count": 7,
   "id": "262acc5f-fef1-4465-9a94-3709b9637300",
   "metadata": {
    "execution": {
     "iopub.execute_input": "2023-10-02T03:31:29.865447Z",
     "iopub.status.busy": "2023-10-02T03:31:29.864873Z",
     "iopub.status.idle": "2023-10-02T03:31:30.647526Z",
     "shell.execute_reply": "2023-10-02T03:31:30.647254Z",
     "shell.execute_reply.started": "2023-10-02T03:31:29.865419Z"
    }
   },
   "outputs": [
    {
     "name": "stdout",
     "output_type": "stream",
     "text": [
      "Label NOT FOUND for UOT100/BallisticMissile1\n",
      "Label NOT FOUND for UOT100/BallisticMissile2\n",
      "Label NOT FOUND for UOT100/BoySwimming\n",
      "Label NOT FOUND for UOT100/CenoteAngelita\n",
      "IMAGES NOT FOUND for UOT100/CleverOctopus\n",
      "Label NOT FOUND for UOT100/ClickerAndTarget\n",
      "IMAGES NOT FOUND for UOT100/CoconutOctopus1\n",
      "IMAGES NOT FOUND for UOT100/CoconutOctopus2\n",
      "IMAGES NOT FOUND for UOT100/ColourChangingSquid\n",
      "Label NOT FOUND for UOT100/CrabTrap\n",
      "IMAGES NOT FOUND for UOT100/CrayFish\n",
      "IMAGES NOT FOUND for UOT100/DeepSeaFish1\n",
      "IMAGES NOT FOUND for UOT100/DeepSeaFish2\n",
      "IMAGES NOT FOUND for UOT100/Diving360Degree1\n",
      "IMAGES NOT FOUND for UOT100/Diving360Degree2\n",
      "IMAGES NOT FOUND for UOT100/Diving360Degree3\n",
      "IMAGES NOT FOUND for UOT100/DivingHuman\n",
      "IMAGES NOT FOUND for UOT100/EelRedSeaReptile\n",
      "IMAGES NOT FOUND for UOT100/FightingEels1\n",
      "IMAGES NOT FOUND for UOT100/FightingEels2\n",
      "IMAGES NOT FOUND for UOT100/FightingEels3\n",
      "IMAGES NOT FOUND for UOT100/FishLittleMonster\n",
      "IMAGES NOT FOUND for UOT100/FishLobsters2\n",
      "IMAGES NOT FOUND for UOT100/FishOceanFloorSensor\n",
      "IMAGES NOT FOUND for UOT100/Fishing\n",
      "IMAGES NOT FOUND for UOT100/FishingBait\n",
      "IMAGES NOT FOUND for UOT100/FlukeFishing1\n",
      "IMAGES NOT FOUND for UOT100/FreeDiver1\n",
      "IMAGES NOT FOUND for UOT100/FreeDiver2\n",
      "IMAGES NOT FOUND for UOT100/FreeDiver3\n",
      "IMAGES NOT FOUND for UOT100/FreeDiver4\n",
      "IMAGES NOT FOUND for UOT100/FreeDiver5\n",
      "IMAGES NOT FOUND for UOT100/GreenMoreyEel2\n",
      "IMAGES NOT FOUND for UOT100/GreenMoreyEel3\n",
      "IMAGES NOT FOUND for UOT100/HappyTurtle1\n",
      "IMAGES NOT FOUND for UOT100/HappyTurtle2\n",
      "IMAGES NOT FOUND for UOT100/HappyTurtle3\n",
      "IMAGES NOT FOUND for UOT100/HumanMythBusters\n",
      "IMAGES NOT FOUND for UOT100/HumanNeryClimbing\n",
      "IMAGES NOT FOUND for UOT100/HumanRocketman\n",
      "IMAGES NOT FOUND for UOT100/HumanScubaDiving1\n",
      "IMAGES NOT FOUND for UOT100/HumanScubaDiving2\n",
      "IMAGES NOT FOUND for UOT100/HumanSofiaRocks1\n",
      "IMAGES NOT FOUND for UOT100/HumanSofiaRocks2\n",
      "IMAGES NOT FOUND for UOT100/HumanSwimming\n",
      "IMAGES NOT FOUND for UOT100/LionFish\n",
      "Label NOT FOUND for UOT100/Lobsters1\n",
      "IMAGES NOT FOUND for UOT100/MantaRescue1\n",
      "IMAGES NOT FOUND for UOT100/MantaRescue2\n",
      "IMAGES NOT FOUND for UOT100/MantaRescue3\n",
      "IMAGES NOT FOUND for UOT100/MantaRescue4\n",
      "IMAGES NOT FOUND for UOT100/MantisShrimp\n",
      "IMAGES NOT FOUND for UOT100/MississippiFish\n",
      "IMAGES NOT FOUND for UOT100/Octopus\n",
      "IMAGES NOT FOUND for UOT100/Octopus3\n",
      "IMAGES NOT FOUND for UOT100/Octopus4\n",
      "IMAGES NOT FOUND for UOT100/Octopus5\n",
      "IMAGES NOT FOUND for UOT100/PlayingTurtle\n",
      "IMAGES NOT FOUND for UOT100/SchoolOfFish1\n",
      "IMAGES NOT FOUND for UOT100/SchoolOfFish2\n",
      "IMAGES NOT FOUND for UOT100/Shark\n",
      "IMAGES NOT FOUND for UOT100/SharkCloseCall1\n",
      "IMAGES NOT FOUND for UOT100/SharkCloseCall2\n",
      "IMAGES NOT FOUND for UOT100/SharkSuckers1\n",
      "IMAGES NOT FOUND for UOT100/SharkSuckers2\n",
      "IMAGES NOT FOUND for UOT100/ShrimpMuckySecrets1\n",
      "IMAGES NOT FOUND for UOT100/ShrimpSkagerrak\n",
      "IMAGES NOT FOUND for UOT100/SquidCuttlefish\n",
      "IMAGES NOT FOUND for UOT100/SquidGiantCuttlefish1\n",
      "IMAGES NOT FOUND for UOT100/SquidGiantCuttlefish2\n",
      "IMAGES NOT FOUND for UOT100/SquidMuckySecrets2\n",
      "Label NOT FOUND for UOT100/Submarine\n",
      "IMAGES NOT FOUND for UOT100/Whales\n",
      "Label NOT FOUND for UOT100/WolfTrolling\n"
     ]
    }
   ],
   "source": [
    "for idx, folder in enumerate(sorted(glob.glob(\"UOT100/*\"))):\n",
    "    create_annotated_images(folder, labels_dict=labels_dict, prefix=idx, img_count=200)"
   ]
  },
  {
   "cell_type": "code",
   "execution_count": null,
   "id": "b3acef2d-609a-44ef-9bdb-4a8fe78feb32",
   "metadata": {
    "execution": {
     "iopub.execute_input": "2023-09-19T03:32:39.161795Z",
     "iopub.status.busy": "2023-09-19T03:32:39.161243Z",
     "iopub.status.idle": "2023-09-19T03:34:58.738279Z",
     "shell.execute_reply": "2023-09-19T03:34:58.737475Z",
     "shell.execute_reply.started": "2023-09-19T03:32:39.161749Z"
    }
   },
   "outputs": [],
   "source": [
    "def play_video(video_input, annotation):\n",
    "    print(f\"Showing image annotation {annotation}\")\n",
    "    annotation_df = pd.read_csv(annotation, sep=\"\\t\", header=None, dtype=float)\n",
    "    cap = cv.VideoCapture(video_input)\n",
    "    frames = []\n",
    "    idx = 0\n",
    "\n",
    "    cv.startWindowThread()\n",
    "\n",
    "    while cap.isOpened():\n",
    "        ret, frame = cap.read()\n",
    "        # if frame is read correctly ret is True\n",
    "        if not ret:\n",
    "            print(\"Can't receive frame (stream end?). Exiting ...\")\n",
    "            break\n",
    "        gray = cv.cvtColor(frame, cv.COLOR_BGR2GRAY)\n",
    "        frames.append(gray)\n",
    "        try:\n",
    "            x1, y1, width, height = [\n",
    "                int(val) for val in annotation_df.iloc[idx].tolist()\n",
    "            ]\n",
    "            cv.rectangle(gray, (x1, y1), (x1 + width, y1 + height), (255, 0, 0), 2)\n",
    "        except Exception as e:\n",
    "            print(x1, y1, width, height, e)\n",
    "        cv.imshow(\"frame\", gray)\n",
    "        idx += 1\n",
    "        if cv.waitKey(1) == ord(\"q\"):\n",
    "            break\n",
    "        # if cv.getWindowProperty('frame', cv.WND_PROP_VISIBLE) < 1:\n",
    "        #     break\n",
    "    cap.release()\n",
    "    cv.destroyAllWindows()\n",
    "    for i in range(10):\n",
    "        cv.waitKey(1)\n",
    "\n",
    "\n",
    "for idx, (video_file, annotation) in enumerate(data):\n",
    "    if idx < 10:\n",
    "        continue\n",
    "    if idx > 100:\n",
    "        break\n",
    "    play_video(video_file, annotation)"
   ]
  },
  {
   "cell_type": "code",
   "execution_count": null,
   "id": "d59be00b-85ba-4d22-b216-a5ced5dc67a8",
   "metadata": {},
   "outputs": [],
   "source": []
  },
  {
   "cell_type": "code",
   "execution_count": null,
   "id": "30fd7eee-eb81-43ea-a0bf-c97222892fbe",
   "metadata": {},
   "outputs": [],
   "source": []
  },
  {
   "cell_type": "code",
   "execution_count": null,
   "id": "81e75bf0-bc7e-4ee9-814d-42f1de253064",
   "metadata": {},
   "outputs": [],
   "source": []
  },
  {
   "cell_type": "code",
   "execution_count": null,
   "id": "accf2848-24a0-4fdd-990d-3d8bf906b739",
   "metadata": {},
   "outputs": [],
   "source": []
  },
  {
   "cell_type": "code",
   "execution_count": null,
   "id": "324b9b72-20b8-4958-98fd-51401c9a4697",
   "metadata": {},
   "outputs": [],
   "source": []
  },
  {
   "cell_type": "code",
   "execution_count": null,
   "id": "1783aedf-c770-48e3-9df3-f1d861b880c0",
   "metadata": {},
   "outputs": [],
   "source": []
  },
  {
   "cell_type": "code",
   "execution_count": null,
   "id": "958c7975-387c-4298-a02d-d378d7162d81",
   "metadata": {},
   "outputs": [],
   "source": []
  }
 ],
 "metadata": {
  "kernelspec": {
   "display_name": "dev_env",
   "language": "python",
   "name": "python3"
  },
  "language_info": {
   "codemirror_mode": {
    "name": "ipython",
    "version": 3
   },
   "file_extension": ".py",
   "mimetype": "text/x-python",
   "name": "python",
   "nbconvert_exporter": "python",
   "pygments_lexer": "ipython3",
   "version": "3.10.12"
  }
 },
 "nbformat": 4,
 "nbformat_minor": 5
}
