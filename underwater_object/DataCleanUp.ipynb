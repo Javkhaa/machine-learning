{
 "cells": [
  {
   "cell_type": "code",
   "execution_count": 2,
   "id": "041e335a-cd04-4f06-b733-b01ba9fe946e",
   "metadata": {
    "execution": {
     "iopub.execute_input": "2024-02-19T09:03:58.909268Z",
     "iopub.status.busy": "2024-02-19T09:03:58.908907Z",
     "iopub.status.idle": "2024-02-19T09:03:59.514427Z",
     "shell.execute_reply": "2024-02-19T09:03:59.514010Z",
     "shell.execute_reply.started": "2024-02-19T09:03:58.909245Z"
    }
   },
   "outputs": [],
   "source": [
    "import glob\n",
    "import os\n",
    "\n",
    "import cv2 as cv\n",
    "import matplotlib.pyplot as plt\n",
    "import numpy as np\n",
    "import pandas as pd"
   ]
  },
  {
   "cell_type": "code",
   "execution_count": 3,
   "id": "74730790-3fba-4a02-899b-b322d035ab47",
   "metadata": {
    "execution": {
     "iopub.execute_input": "2024-02-19T09:04:01.290037Z",
     "iopub.status.busy": "2024-02-19T09:04:01.289056Z",
     "iopub.status.idle": "2024-02-19T09:04:01.307330Z",
     "shell.execute_reply": "2024-02-19T09:04:01.306123Z",
     "shell.execute_reply.started": "2024-02-19T09:04:01.289986Z"
    }
   },
   "outputs": [],
   "source": [
    "def open_camera():\n",
    "    cap = cv.VideoCapture(0)\n",
    "    if not cap.isOpened():\n",
    "        print(\"Cannot open camera\")\n",
    "        exit()\n",
    "    while True:\n",
    "        # Capture frame-by-frame\n",
    "        ret, frame = cap.read()\n",
    "        # if frame is read correctly ret is True\n",
    "        if not ret:\n",
    "            print(\"Can't receive frame (stream end?). Exiting ...\")\n",
    "            break\n",
    "        # Our operations on the frame come here\n",
    "        gray = cv.cvtColor(frame, cv.COLOR_BGR2GRAY)\n",
    "        # Display the resulting frame\n",
    "        cv.imshow(\"frame\", gray)\n",
    "        if cv.waitKey(1) == ord(\"q\"):\n",
    "            break\n",
    "    # When everything done, release the capture\n",
    "    cap.release()\n",
    "    cv.destroyAllWindows()\n",
    "\n",
    "\n",
    "def play_video(video_input, annotation):\n",
    "    print(f\"Showing image annotation {annotation}\")\n",
    "    annotation_df = pd.read_csv(annotation, sep=\"\\t\", header=None, dtype=float)\n",
    "    cap = cv.VideoCapture(video_input)\n",
    "    frames = []\n",
    "    idx = 0\n",
    "\n",
    "    cv.startWindowThread()\n",
    "\n",
    "    while cap.isOpened():\n",
    "        ret, frame = cap.read()\n",
    "        # if frame is read correctly ret is True\n",
    "        if not ret:\n",
    "            print(\"Can't receive frame (stream end?). Exiting ...\")\n",
    "            break\n",
    "        gray = cv.cvtColor(frame, cv.COLOR_BGR2GRAY)\n",
    "        frames.append(gray)\n",
    "        try:\n",
    "            x1, y1, width, height = [\n",
    "                int(val) for val in annotation_df.iloc[idx].tolist()\n",
    "            ]\n",
    "            cv.rectangle(gray, (x1, y1), (x1 + width, y1 + height), (255, 0, 0), 2)\n",
    "        except Exception as e:\n",
    "            print(x1, y1, width, height, e)\n",
    "        cv.imshow(\"frame\", gray)\n",
    "        idx += 1\n",
    "        if cv.waitKey(1) == ord(\"q\"):\n",
    "            break\n",
    "        # if cv.getWindowProperty('frame', cv.WND_PROP_VISIBLE) < 1:\n",
    "        #     break\n",
    "    cap.release()\n",
    "    cv.destroyAllWindows()\n",
    "    for i in range(10):\n",
    "        cv.waitKey(1)\n",
    "\n",
    "\n",
    "# for idx, (video_file, annotation) in enumerate(data):\n",
    "#     if idx < 10:\n",
    "#         continue\n",
    "#     if idx > 100:\n",
    "#         break\n",
    "#     play_video(video_file, annotation)"
   ]
  },
  {
   "cell_type": "code",
   "execution_count": 4,
   "id": "cdd21ab8-bcc6-41cd-9b6f-eb34a328b14d",
   "metadata": {
    "execution": {
     "iopub.execute_input": "2024-02-19T13:56:27.978902Z",
     "iopub.status.busy": "2024-02-19T13:56:27.977670Z",
     "iopub.status.idle": "2024-02-19T13:56:28.012511Z",
     "shell.execute_reply": "2024-02-19T13:56:28.011986Z",
     "shell.execute_reply.started": "2024-02-19T13:56:27.978835Z"
    }
   },
   "outputs": [],
   "source": []
  },
  {
   "cell_type": "code",
   "execution_count": 18,
   "id": "336bdebb-bc2a-4bfa-9a54-2998cc62eedc",
   "metadata": {
    "execution": {
     "iopub.execute_input": "2024-02-19T14:00:59.425318Z",
     "iopub.status.busy": "2024-02-19T14:00:59.424840Z",
     "iopub.status.idle": "2024-02-19T14:00:59.455571Z",
     "shell.execute_reply": "2024-02-19T14:00:59.454853Z",
     "shell.execute_reply.started": "2024-02-19T14:00:59.425288Z"
    }
   },
   "outputs": [],
   "source": [
    "import matplotlib.patches as patches\n",
    "\n",
    "\n",
    "def get_pixels(img_file):\n",
    "    img = Image.open(img_file)\n",
    "    pixels = np.asarray(img)\n",
    "    return pixels\n",
    "\n",
    "\n",
    "def get_yolo_style_bbox_rect(bbox_coord_file, width, height):\n",
    "    bbox_coord_df = pd.read_csv(bbox_coord_file, sep=\" \", header=None)\n",
    "    bbox_coord_df.columns = [\"label\", \"x\", \"y\", \"w\", \"h\"]\n",
    "\n",
    "    rect_patch_list = []\n",
    "    for idx, row in bbox_coord_df.iterrows():\n",
    "        rel_x, rel_y, rel_bbox_width, rel_bbox_height = (\n",
    "            row[\"x\"],\n",
    "            row[\"y\"],\n",
    "            row[\"w\"],\n",
    "            row[\"h\"],\n",
    "        )\n",
    "        rect_patch_list.append(\n",
    "            get_rect_box_yolo(\n",
    "                rel_x, rel_y, rel_bbox_width, rel_bbox_height, width, height\n",
    "            )\n",
    "        )\n",
    "    return rect_patch_list\n",
    "\n",
    "\n",
    "def get_rect_box_yolo(rel_x, rel_y, rel_bbox_width, rel_bbox_height, width, height):\n",
    "    xmin = width * (rel_x - rel_bbox_width / 2)\n",
    "    ymin = height * (rel_y - rel_bbox_height / 2)\n",
    "    patch_width = rel_bbox_width * width\n",
    "    patch_height = rel_bbox_height * height\n",
    "    # Create a Rectangle patch\n",
    "    rect_patch = patches.Rectangle(\n",
    "        (xmin, ymin),\n",
    "        patch_width,\n",
    "        patch_height,\n",
    "        linewidth=1,\n",
    "        edgecolor=\"r\",\n",
    "        facecolor=\"none\",\n",
    "    )\n",
    "\n",
    "    return rect_patch\n",
    "\n",
    "\n",
    "def get_rect_box(rel_xmin, rel_xmax, rel_ymin, rel_ymax, width, height):\n",
    "    xmin = width * rel_xmin\n",
    "    ymin = height * rel_ymin\n",
    "    patch_width = (rel_xmax - rel_xmin) * width\n",
    "    patch_height = (rel_ymax - rel_ymin) * height\n",
    "    # Create a Rectangle patch\n",
    "    rect_patch = patches.Rectangle(\n",
    "        (xmin, ymin),\n",
    "        patch_width,\n",
    "        patch_height,\n",
    "        linewidth=1,\n",
    "        edgecolor=\"r\",\n",
    "        facecolor=\"none\",\n",
    "    )\n",
    "\n",
    "    return rect_patch\n",
    "\n",
    "\n",
    "def get_img_with_bounding_box(img_file, bbox_coord_file):\n",
    "    img_basename = os.path.basename(img_file).removesuffix(\".jpg\")\n",
    "    pixels = get_pixels(img_file)\n",
    "    height, width, _ = pixels.shape\n",
    "    bbox_coord_df = pd.read_csv(bbox_coord_file, sep=\" \", header=None)\n",
    "\n",
    "    rect_patch_list = []\n",
    "    for idx, row in bbox_coord_df.iterrows():\n",
    "        _, rel_xmin, rel_xmax, rel_ymin, rel_ymax = (\n",
    "            row[\"1\"],\n",
    "            row[\"2\"],\n",
    "            row[\"3\"],\n",
    "            row[\"4\"],\n",
    "        )\n",
    "        if show_img:\n",
    "            rect_patch_list.append(\n",
    "                get_rect_box(rel_xmin, rel_xmax, rel_ymin, rel_ymax, width, height)\n",
    "            )\n",
    "\n",
    "    if show_img:\n",
    "        fig, ax = plt.subplots()\n",
    "        ax.imshow(pixels)\n",
    "        # Add the patch to the Axes\n",
    "        for rect in rect_patch_list:\n",
    "            ax.add_patch(rect)\n",
    "        plt.show()"
   ]
  },
  {
   "cell_type": "code",
   "execution_count": 30,
   "id": "c7213487-bcdd-45c7-9921-7e94be3a5970",
   "metadata": {
    "execution": {
     "iopub.execute_input": "2024-02-20T09:36:18.046885Z",
     "iopub.status.busy": "2024-02-20T09:36:18.046342Z",
     "iopub.status.idle": "2024-02-20T09:36:18.072727Z",
     "shell.execute_reply": "2024-02-20T09:36:18.071745Z",
     "shell.execute_reply.started": "2024-02-20T09:36:18.046856Z"
    }
   },
   "outputs": [],
   "source": [
    "from PIL import Image\n",
    "\n",
    "img_file = os.path.join(basedir, \"obj_train_data/frame_000000.PNG\")\n",
    "label_file = os.path.join(basedir, \"obj_train_data/frame_000000.txt\")"
   ]
  },
  {
   "cell_type": "code",
   "execution_count": null,
   "id": "a70d8532-4854-4c04-9be2-21aab526e22a",
   "metadata": {},
   "outputs": [],
   "source": []
  },
  {
   "cell_type": "code",
   "execution_count": 58,
   "id": "41d58484-c1f2-4013-9e83-df1e96813bbc",
   "metadata": {
    "execution": {
     "iopub.execute_input": "2024-02-20T10:25:54.983880Z",
     "iopub.status.busy": "2024-02-20T10:25:54.981863Z",
     "iopub.status.idle": "2024-02-20T10:25:55.032465Z",
     "shell.execute_reply": "2024-02-20T10:25:55.032011Z",
     "shell.execute_reply.started": "2024-02-20T10:25:54.983799Z"
    }
   },
   "outputs": [],
   "source": [
    "import glob\n",
    "import os\n",
    "\n",
    "# basedir = \"/Users/javkhlan-ochirganbat/temp/yellow_shrimps/\"\n",
    "\n",
    "\n",
    "def cleanup_no_label_img(basedir: str):\n",
    "    for label_file in sorted(\n",
    "        glob.glob(os.path.join(basedir, \"obj_train_data/frame_*.txt\"))\n",
    "    ):\n",
    "        img_file = label_file.replace(\".txt\", \".PNG\")\n",
    "        try:\n",
    "            pd.read_csv(label_file)\n",
    "        except pd.errors.EmptyDataError:\n",
    "            # print(f\"No annotation {label_file} removing image and label\")\n",
    "            os.remove(label_file)\n",
    "            os.remove(img_file)\n",
    "\n",
    "    # pixels = get_pixels(img_file)\n",
    "    # bbox_rect_list = get_yolo_style_bbox_rect(label_file, pixels.shape[1], pixels.shape[0])\n",
    "\n",
    "    # fig, ax = plt.subplots(figsize=(6, 8))\n",
    "    # ax.imshow(pixels)\n",
    "    # # Add the patch to the Axes\n",
    "    # for rect in bbox_rect_list:\n",
    "    #     ax.add_patch(rect)\n",
    "    # plt.show()"
   ]
  },
  {
   "cell_type": "code",
   "execution_count": 101,
   "id": "685bdb5e-74ab-4952-9adc-b25b9c6f6c75",
   "metadata": {
    "execution": {
     "iopub.execute_input": "2024-02-21T10:57:33.160160Z",
     "iopub.status.busy": "2024-02-21T10:57:33.159525Z",
     "iopub.status.idle": "2024-02-21T10:57:33.189938Z",
     "shell.execute_reply": "2024-02-21T10:57:33.189549Z",
     "shell.execute_reply.started": "2024-02-21T10:57:33.160114Z"
    }
   },
   "outputs": [],
   "source": [
    "import random\n",
    "from dataclasses import dataclass\n",
    "\n",
    "\n",
    "def mv_annot_img_and_label(prefix, img_file, label_file, dest_img_dir, dest_label_dir):\n",
    "    new_label_file = os.path.basename(label_file).replace(\"frame\", prefix)\n",
    "    new_img_file = os.path.basename(img_file).replace(\"frame\", prefix)\n",
    "    shutil.copyfile(img_file, os.path.join(dest_img_dir, new_img_file))\n",
    "    shutil.copyfile(label_file, os.path.join(dest_label_dir, new_label_file))\n",
    "\n",
    "\n",
    "@dataclass\n",
    "class CVATAnnot:\n",
    "    video_name: str\n",
    "    annot_dir: str\n",
    "    downsample_percent: float = 1.0  # 1 for all image\n",
    "    max_image_count: int = -1  # -1 for all image\n",
    "\n",
    "    def __init__(\n",
    "        self, video_name, annot_dir, downsample_percent=1, max_image_count=None\n",
    "    ):\n",
    "        self.video_name = video_name\n",
    "        self.annot_dir = annot_dir\n",
    "        total_img_cnt = len(os.listdir(annot_dir)) // 2\n",
    "        if max_image_count and max_image_count < total_img_cnt:\n",
    "            self.downsample_percent = np.round(max_image_count / total_img_cnt, 2)\n",
    "            self.max_image_count = max_image_count\n",
    "        else:\n",
    "            self.downsample_percent = downsample_percent\n",
    "\n",
    "    def output_fltrd_data(self, outdir: str):\n",
    "        dest_img_dir = os.path.join(outdir, \"train/images/shrimp/\")\n",
    "        dest_label_dir = os.path.join(outdir, \"train/labels/shrimp/\")\n",
    "        for label_file in sorted(glob.glob(os.path.join(self.annot_dir, \"*.txt\"))):\n",
    "            img_file = label_file.replace(\".txt\", \".PNG\")\n",
    "            if random.random() <= self.downsample_percent:\n",
    "                mv_annot_img_and_label(self.video_name, img_file, label_file, dest_img_dir, dest_label_dir)\n"
   ]
  },
  {
   "cell_type": "code",
   "execution_count": 102,
   "id": "5431d292-ec05-436e-90b4-2927bc6bc3fc",
   "metadata": {
    "execution": {
     "iopub.execute_input": "2024-02-21T10:57:33.891851Z",
     "iopub.status.busy": "2024-02-21T10:57:33.891404Z",
     "iopub.status.idle": "2024-02-21T10:57:36.569028Z",
     "shell.execute_reply": "2024-02-21T10:57:36.568752Z",
     "shell.execute_reply.started": "2024-02-21T10:57:33.891825Z"
    }
   },
   "outputs": [],
   "source": [
    "annot_basedirs = [\n",
    "    \"/Users/javkhlan-ochirganbat/temp/tet_visit_shrimp_1a/obj_train_data/\",\n",
    "    \"/Users/javkhlan-ochirganbat/temp/tet_visit_shrimp_1b/obj_train_data/\",\n",
    "    \"/Users/javkhlan-ochirganbat/temp/tet_visit_shrimp_1c/obj_train_data/\",\n",
    "    \"/Users/javkhlan-ochirganbat/temp/yellow_shrimps/obj_train_data/\",\n",
    "]\n",
    "\n",
    "cvat_annot_obj = {}\n",
    "outdir = \"/Users/javkhlan-ochirganbat/temp/shrimp_dataset_v2/\"\n",
    "\n",
    "for basedir in annot_basedirs:\n",
    "    cleanup_no_label_img(basedir=basedir)\n",
    "    vid_name = basedir.rstrip(\"/\").split(\"/\")[-2]\n",
    "    cvat_obj = CVATAnnot(\n",
    "        video_name=vid_name, annot_dir=basedir, max_image_count=500\n",
    "    )\n",
    "    cvat_annot_obj[vid_name] = cvat_obj\n",
    "    cvat_obj.output_fltrd_data(outdir)\n"
   ]
  },
  {
   "cell_type": "code",
   "execution_count": 88,
   "id": "b6fc3e4e-cdfd-406b-8f42-a77532d3e4ac",
   "metadata": {
    "execution": {
     "iopub.execute_input": "2024-02-21T10:44:53.291899Z",
     "iopub.status.busy": "2024-02-21T10:44:53.291446Z",
     "iopub.status.idle": "2024-02-21T10:44:53.312978Z",
     "shell.execute_reply": "2024-02-21T10:44:53.312328Z",
     "shell.execute_reply.started": "2024-02-21T10:44:53.291877Z"
    }
   },
   "outputs": [
    {
     "data": {
      "text/plain": [
       "CVATAnnot(video_name='tet_visit_shrimp_1c', annot_dir='/Users/javkhlan-ochirganbat/temp/tet_visit_shrimp_1c/obj_train_data/', downsample_percent=0.3, max_image_count=500)"
      ]
     },
     "execution_count": 88,
     "metadata": {},
     "output_type": "execute_result"
    }
   ],
   "source": [
    "cvat_annot_obj[\"tet_visit_shrimp_1c\"]"
   ]
  },
  {
   "cell_type": "code",
   "execution_count": 66,
   "id": "8c5aef51-1980-495d-ab4e-ac8972271a62",
   "metadata": {
    "execution": {
     "iopub.execute_input": "2024-02-21T10:21:13.023416Z",
     "iopub.status.busy": "2024-02-21T10:21:13.022832Z",
     "iopub.status.idle": "2024-02-21T10:21:18.569636Z",
     "shell.execute_reply": "2024-02-21T10:21:18.569090Z",
     "shell.execute_reply.started": "2024-02-21T10:21:13.023383Z"
    }
   },
   "outputs": [],
   "source": [
    "import shutil\n",
    "\n",
    "for basedir in annot_basedirs:\n",
    "    basename = os.path.basename(basedir.rstrip(\"/\"))\n",
    "\n",
    "    label_files = sorted(glob.glob(os.path.join(basedir, \"obj_train_data/frame_*.txt\")))\n",
    "    for label_file in label_files:\n",
    "        img_file = label_file.replace(\".txt\", \".PNG\")\n",
    "\n",
    "        new_label_file = os.path.basename(label_file).replace(\"frame\", basename)\n",
    "        new_img_file = os.path.basename(img_file).replace(\"frame\", basename)\n",
    "\n",
    "        shutil.copyfile(img_file, os.path.join(dest_img_dir, new_img_file))\n",
    "        shutil.copyfile(label_file, os.path.join(dest_label_dir, new_label_file))\n",
    "        # print(img_file, os.path.join(dest_img_dir, new_img_file))\n",
    "        # print(label_file, os.path.join(dest_label_dir, new_label_file))"
   ]
  },
  {
   "cell_type": "code",
   "execution_count": null,
   "id": "f8f00b2d-3971-4543-bf09-a98db52e5fd2",
   "metadata": {},
   "outputs": [],
   "source": []
  },
  {
   "cell_type": "code",
   "execution_count": null,
   "id": "df89df9c-b55f-40a9-b4b0-387edd4af72d",
   "metadata": {},
   "outputs": [],
   "source": []
  },
  {
   "cell_type": "code",
   "execution_count": null,
   "id": "95f3188b-6403-4c5f-9ba9-7a6f1b4ea09f",
   "metadata": {},
   "outputs": [],
   "source": []
  },
  {
   "cell_type": "code",
   "execution_count": null,
   "id": "777e33c4-0304-4408-92d2-0d10736ee8cf",
   "metadata": {},
   "outputs": [],
   "source": []
  },
  {
   "cell_type": "code",
   "execution_count": null,
   "id": "289521c5-3759-4f84-ab40-f3153828b729",
   "metadata": {},
   "outputs": [],
   "source": []
  },
  {
   "cell_type": "code",
   "execution_count": 3,
   "id": "6a176ec1-5c9a-424e-8862-5400f6ccf2eb",
   "metadata": {
    "execution": {
     "iopub.execute_input": "2023-09-19T03:32:38.037378Z",
     "iopub.status.busy": "2023-09-19T03:32:38.036726Z",
     "iopub.status.idle": "2023-09-19T03:32:38.050067Z",
     "shell.execute_reply": "2023-09-19T03:32:38.049057Z",
     "shell.execute_reply.started": "2023-09-19T03:32:38.037348Z"
    }
   },
   "outputs": [],
   "source": [
    "data = glob.glob(\"UOT100/*/\")\n",
    "\n",
    "video_input = \"UOT100/ArmyDiver1/ArmyDiver1.mp4\"\n",
    "annotation = \"UOT100/ArmyDiver1/groundtruth_rect.txt\"\n",
    "\n",
    "df = pd.read_csv(annotation, sep=\"\\t\", header=None)\n",
    "\n",
    "labels_dict = {\n",
    "    \"turtle\": 0,\n",
    "    \"human\": 1,\n",
    "    \"fish\": 2,\n",
    "    \"octopus\": 3,\n",
    "    \"squid\": 4,\n",
    "    \"whale\": 5,\n",
    "    \"shark\": 6,\n",
    "    \"manta\": 7,\n",
    "    \"dive\": 1,\n",
    "    \"dolphin\": 8,\n",
    "    \"eel\": 9,\n",
    "    \"shrimp\": 10,\n",
    "    \"diving\": 2,\n",
    "}"
   ]
  },
  {
   "cell_type": "code",
   "execution_count": 6,
   "id": "474da426-0d61-4c76-86d8-db37f1387881",
   "metadata": {
    "execution": {
     "iopub.execute_input": "2023-10-02T03:31:26.381628Z",
     "iopub.status.busy": "2023-10-02T03:31:26.380978Z",
     "iopub.status.idle": "2023-10-02T03:31:26.398552Z",
     "shell.execute_reply": "2023-10-02T03:31:26.397464Z",
     "shell.execute_reply.started": "2023-10-02T03:31:26.381593Z"
    }
   },
   "outputs": [],
   "source": [
    "import os\n",
    "import random\n",
    "import shutil\n",
    "\n",
    "\n",
    "def create_annotated_images(video_folder, labels_dict, prefix, img_count=10):\n",
    "    label_name = video_folder.lower()\n",
    "    ground_truth = pd.read_csv(\n",
    "        os.path.join(video_folder, \"groundtruth_rect.txt\"), sep=\"\\t\", header=None\n",
    "    )\n",
    "    detected_label = None\n",
    "    for label, idx in labels_dict.items():\n",
    "        if label in label_name:\n",
    "            detected_label = str(idx)\n",
    "            break\n",
    "\n",
    "    if not detected_label:\n",
    "        print(f\"Label NOT FOUND for {video_folder}\")\n",
    "        return\n",
    "\n",
    "    image_list = sorted(glob.glob(os.path.join(video_folder, \"img/frame*\")))\n",
    "    if not image_list:\n",
    "        print(f\"IMAGES NOT FOUND for {video_folder}\")\n",
    "        return\n",
    "    img_height, img_width = plt.imread(image_list[0]).shape[:2]\n",
    "    random.shuffle(image_list)\n",
    "    selected = image_list[:img_count]\n",
    "\n",
    "    create_dataset = True\n",
    "    for img in selected:\n",
    "        base_name = os.path.basename(img)\n",
    "        label_idx = int(base_name.removeprefix(\"frame\").removesuffix(\".jpg\"))\n",
    "        new_img_name = f\"{prefix:08}{label_idx}\"\n",
    "        if label_idx >= ground_truth.shape[0]:\n",
    "            continue\n",
    "        x1, y1, rec_width, rec_height = [\n",
    "            int(val) for val in ground_truth.loc[label_idx].tolist()\n",
    "        ]\n",
    "        norm_x1 = x1 / img_width\n",
    "        norm_rec_width = rec_width / img_width\n",
    "        norm_y1 = y1 / img_height\n",
    "        norm_rec_height = rec_height / img_height\n",
    "        bounding_rect = f\"{norm_x1 + norm_rec_width / 2} {norm_y1 + norm_rec_height / 2} {norm_rec_width} {norm_rec_height}\"\n",
    "\n",
    "        new_img_path = f\"/Users/javkhlan-ochirganbat/repos/machine-learning/ultralytics_demo/custom_dataset/UOT100Images/images/uot100/{new_img_name}.jpg\"\n",
    "        if create_dataset:\n",
    "            shutil.copy(img, new_img_path)\n",
    "            new_label_path = f\"/Users/javkhlan-ochirganbat/repos/machine-learning/ultralytics_demo/custom_dataset/UOT100Images/labels/uot100/{new_img_name}.txt\"\n",
    "            with open(new_label_path, \"w\") as outfile:\n",
    "                outfile.write(f\"{detected_label} {bounding_rect}\\n\")\n",
    "            # print(detected_label, new_img_path, label_idx, label_value)\n",
    "    return detected_label\n",
    "\n",
    "\n",
    "# create_annotated_images(\"UOT100/AntiguaTurtle\", labels_dict=labels_dict, prefix=1)"
   ]
  },
  {
   "cell_type": "code",
   "execution_count": 3,
   "id": "262acc5f-fef1-4465-9a94-3709b9637300",
   "metadata": {
    "execution": {
     "iopub.execute_input": "2024-02-14T03:53:53.750995Z",
     "iopub.status.busy": "2024-02-14T03:53:53.750414Z",
     "iopub.status.idle": "2024-02-14T03:53:53.756459Z",
     "shell.execute_reply": "2024-02-14T03:53:53.755530Z",
     "shell.execute_reply.started": "2024-02-14T03:53:53.750964Z"
    }
   },
   "outputs": [],
   "source": [
    "# Set to True to generate annotated image\n",
    "\n",
    "if False:\n",
    "    for idx, folder in enumerate(sorted(glob.glob(\"UOT100/*\"))):\n",
    "        create_annotated_images(\n",
    "            folder, labels_dict=labels_dict, prefix=idx, img_count=200\n",
    "        )"
   ]
  },
  {
   "cell_type": "code",
   "execution_count": null,
   "id": "b3acef2d-609a-44ef-9bdb-4a8fe78feb32",
   "metadata": {
    "execution": {
     "iopub.execute_input": "2023-09-19T03:32:39.161795Z",
     "iopub.status.busy": "2023-09-19T03:32:39.161243Z",
     "iopub.status.idle": "2023-09-19T03:34:58.738279Z",
     "shell.execute_reply": "2023-09-19T03:34:58.737475Z",
     "shell.execute_reply.started": "2023-09-19T03:32:39.161749Z"
    }
   },
   "outputs": [],
   "source": []
  },
  {
   "cell_type": "code",
   "execution_count": null,
   "id": "d59be00b-85ba-4d22-b216-a5ced5dc67a8",
   "metadata": {},
   "outputs": [],
   "source": []
  },
  {
   "cell_type": "code",
   "execution_count": null,
   "id": "30fd7eee-eb81-43ea-a0bf-c97222892fbe",
   "metadata": {},
   "outputs": [],
   "source": []
  },
  {
   "cell_type": "code",
   "execution_count": null,
   "id": "81e75bf0-bc7e-4ee9-814d-42f1de253064",
   "metadata": {},
   "outputs": [],
   "source": []
  },
  {
   "cell_type": "code",
   "execution_count": null,
   "id": "accf2848-24a0-4fdd-990d-3d8bf906b739",
   "metadata": {},
   "outputs": [],
   "source": []
  },
  {
   "cell_type": "code",
   "execution_count": null,
   "id": "324b9b72-20b8-4958-98fd-51401c9a4697",
   "metadata": {},
   "outputs": [],
   "source": []
  },
  {
   "cell_type": "code",
   "execution_count": null,
   "id": "1783aedf-c770-48e3-9df3-f1d861b880c0",
   "metadata": {},
   "outputs": [],
   "source": []
  },
  {
   "cell_type": "code",
   "execution_count": null,
   "id": "958c7975-387c-4298-a02d-d378d7162d81",
   "metadata": {},
   "outputs": [],
   "source": []
  }
 ],
 "metadata": {
  "kernelspec": {
   "display_name": "dev_env",
   "language": "python",
   "name": "dev_env"
  },
  "language_info": {
   "codemirror_mode": {
    "name": "ipython",
    "version": 3
   },
   "file_extension": ".py",
   "mimetype": "text/x-python",
   "name": "python",
   "nbconvert_exporter": "python",
   "pygments_lexer": "ipython3",
   "version": "3.10.12"
  }
 },
 "nbformat": 4,
 "nbformat_minor": 5
}
