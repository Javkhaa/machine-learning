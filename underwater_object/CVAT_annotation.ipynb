{
 "cells": [
  {
   "cell_type": "code",
   "execution_count": 1,
   "id": "e2971d92-9d03-4c8e-b158-252fe3d2d01d",
   "metadata": {
    "execution": {
     "iopub.execute_input": "2023-11-27T06:54:36.415239Z",
     "iopub.status.busy": "2023-11-27T06:54:36.414703Z",
     "iopub.status.idle": "2023-11-27T06:54:36.899705Z",
     "shell.execute_reply": "2023-11-27T06:54:36.899368Z",
     "shell.execute_reply.started": "2023-11-27T06:54:36.415210Z"
    }
   },
   "outputs": [],
   "source": [
    "import glob\n",
    "import os\n",
    "\n",
    "import cv2 as cv\n",
    "import matplotlib.pyplot as plt\n",
    "import numpy as np\n",
    "import pandas as pd"
   ]
  },
  {
   "cell_type": "code",
   "execution_count": 10,
   "id": "6d458025-ba9c-419e-b36c-340c9e458154",
   "metadata": {
    "execution": {
     "iopub.execute_input": "2023-11-27T22:29:26.533629Z",
     "iopub.status.busy": "2023-11-27T22:29:26.533025Z",
     "iopub.status.idle": "2023-11-27T22:29:26.565461Z",
     "shell.execute_reply": "2023-11-27T22:29:26.565171Z",
     "shell.execute_reply.started": "2023-11-27T22:29:26.533595Z"
    }
   },
   "outputs": [
    {
     "name": "stdout",
     "output_type": "stream",
     "text": [
      "(480, 848, 3)\n"
     ]
    }
   ],
   "source": [
    "from PIL import Image\n",
    "\n",
    "\n",
    "def generate_image_from_video(video_file, output_dir):\n",
    "    vidcap = cv.VideoCapture(video_file)\n",
    "    success = True\n",
    "    count = 0\n",
    "    success, image = vidcap.read()\n",
    "    while success:\n",
    "        image = image[:, :, ::-1]\n",
    "        # print(image.shape)\n",
    "        # img_obj = Image.fromarray(image).resize((608, 608))\n",
    "        image = cv.cvtColor(image, cv.COLOR_RGB2BGR)\n",
    "        # image.save(os.path.join(output_dir, f\"frame_{count:06}.jpg\"))\n",
    "        cv.imwrite(os.path.join(output_dir, f\"frame_{count:06}.jpg\"), image)\n",
    "        count += 1\n",
    "        success, image = vidcap.read()\n",
    "\n",
    "video_file = \"Shrimp/sick_shrimp.mp4\"\n",
    "output_dir = \"Shrimp/data/obj_train_data/\"\n",
    "generate_image_from_video(video_file, output_dir)"
   ]
  },
  {
   "cell_type": "code",
   "execution_count": null,
   "id": "3d20d489-3ee4-45fc-8346-b7817de71a6c",
   "metadata": {},
   "outputs": [],
   "source": [
    "def get_corrected_bounding_box(annot_idx, annot_dir, img_dim):\n",
    "    annot_file = f\"{annot_dir}/frame_{annot_idx:06}.txt\"\n",
    "    with open(annot_file) as infile:\n",
    "        _, x_center, y_center, annot_width, annot_height = [\n",
    "            float(elem) for elem in infile.readline().strip(\"\\n\").split()\n",
    "        ]\n",
    "\n",
    "    img_height, img_width = img_dim\n",
    "\n",
    "    x1 = int(img_width * (x_center - annot_width / 2))\n",
    "    y1 = int(img_height * (y_center - annot_height / 2))\n",
    "\n",
    "    norm_annot_width = int(annot_width * img_width)\n",
    "    norm_annot_height = int(annot_height * img_height)\n",
    "    \n",
    "    return (x1, y1, norm_annot_width, norm_annot_height)\n",
    "\n",
    "\n",
    "def play_video(video_input, annotation_dir):\n",
    "    cap = cv.VideoCapture(video_input)\n",
    "    idx = 0\n",
    "\n",
    "    cv.startWindowThread()\n",
    "    while cap.isOpened():\n",
    "        ret, frame = cap.read()\n",
    "        # if frame is read correctly ret is True\n",
    "        if not ret:\n",
    "            print(\"Can't receive frame (stream end?). Exiting ...\")\n",
    "            break\n",
    "        gray = cv.cvtColor(frame, cv.COLOR_RGB2GRAY)\n",
    "\n",
    "        x1, y1, w, h = get_corrected_bounding_box(idx, annotation_dir, gray.shape)\n",
    "\n",
    "        cv.rectangle(gray, (x1, y1), (x1+w, y1+h), (255, 0, 0), 2)\n",
    "        cv.imshow(\"frame\", gray)\n",
    "        idx += 1\n",
    "        if cv.waitKey(1) == ord(\"q\"):\n",
    "            break\n",
    "        # if cv.getWindowProperty('frame', cv.WND_PROP_VISIBLE) < 1:\n",
    "        #     break\n",
    "    cap.release()\n",
    "    cv.destroyAllWindows()\n",
    "    for i in range(10):\n",
    "        cv.waitKey(1)\n",
    "\n",
    "\n",
    "video_file = \"Shrimp/sick_shrimp.mp4\"\n",
    "annotation = \"Shrimp/sick_shrimp_track/obj_train_data/\"\n",
    "play_video(video_file, annotation)"
   ]
  },
  {
   "cell_type": "code",
   "execution_count": null,
   "id": "a9f84dd4-d1d7-40f6-acb6-79e162192e2e",
   "metadata": {},
   "outputs": [],
   "source": [
    "# import matplotlib.patches as patches\n",
    "\n",
    "# frame_count = 6000\n",
    "\n",
    "# for i in range(frame_count):\n",
    "#     if i < 5950 or i > 5980:\n",
    "#         continue\n",
    "\n",
    "#     img_file = f\"Shrimp/data/obj_train_data/frame_{i:06}.PNG\"\n",
    "#     annot_file = f\"Shrimp/sick_shrimp_track/obj_train_data/frame_{i:06}.txt\"\n",
    "#     with open(annot_file) as infile:\n",
    "#         _, x_center, y_center, annot_width, annot_height = [\n",
    "#             float(elem) for elem in infile.readline().strip(\"\\n\").split()\n",
    "#         ]\n",
    "\n",
    "#     img = cv.imread(img_file)\n",
    "#     img_height, img_width, _ = img.shape\n",
    "\n",
    "#     x1 = img_width * (x_center - annot_width / 2)\n",
    "#     y1 = img_height * (y_center - annot_height / 2)\n",
    "\n",
    "#     norm_annot_width = annot_width * img_width\n",
    "#     norm_annot_height = annot_height * img_height\n",
    "\n",
    "#     # Create figure and axes\n",
    "#     fig, ax = plt.subplots()\n",
    "#     # Display the image\n",
    "#     ax.imshow(img)\n",
    "#     # Create a Rectangle patch\n",
    "#     rect = patches.Rectangle(\n",
    "#         (x1, y1),\n",
    "#         norm_annot_width,\n",
    "#         norm_annot_height,\n",
    "#         linewidth=1,\n",
    "#         edgecolor=\"r\",\n",
    "#         facecolor=\"none\",\n",
    "#     )\n",
    "#     # Add the patch to the Axes\n",
    "#     ax.add_patch(rect)\n",
    "#     ax.set_title(f\"{i}\")\n",
    "\n",
    "#     plt.show()"
   ]
  },
  {
   "cell_type": "code",
   "execution_count": null,
   "id": "3e7bbac1-0dac-406f-a044-31168b530ce7",
   "metadata": {},
   "outputs": [],
   "source": [
    "# Load a model\n",
    "model = YOLO(\"yolov8n.yaml\").load(custom_model)\n",
    "\n",
    "# Run batched inference on a list of images\n",
    "results = model(['im1.jpg', 'im2.jpg'])  # return a list of Results objects\n",
    "\n",
    "# Process results list\n",
    "for result in results:\n",
    "    boxes = result.boxes  # Boxes object for bbox outputs\n",
    "    masks = result.masks  # Masks object for segmentation masks outputs\n",
    "    keypoints = result.keypoints  # Keypoints object for pose outputs\n",
    "    probs = result.probs  # Probs object for classification outputs"
   ]
  },
  {
   "cell_type": "code",
   "execution_count": null,
   "id": "1a65456a-278c-4be1-bc3b-0d8d4e92211f",
   "metadata": {},
   "outputs": [],
   "source": []
  },
  {
   "cell_type": "code",
   "execution_count": null,
   "id": "ef9134a0-868e-4730-b3b0-c061bcda48cb",
   "metadata": {},
   "outputs": [],
   "source": []
  },
  {
   "cell_type": "code",
   "execution_count": null,
   "id": "a8451a14-61d1-4909-b8d2-72da3650d70f",
   "metadata": {},
   "outputs": [],
   "source": []
  },
  {
   "cell_type": "code",
   "execution_count": null,
   "id": "9dc25cfe-52a5-4ffe-8e95-0c4b71247ea4",
   "metadata": {},
   "outputs": [],
   "source": []
  },
  {
   "cell_type": "code",
   "execution_count": null,
   "id": "9480f491-5d4b-4e65-882b-cb9e75a3f62d",
   "metadata": {},
   "outputs": [],
   "source": []
  },
  {
   "cell_type": "code",
   "execution_count": null,
   "id": "23fa4e7a-cb95-407f-8bb8-7067819b8282",
   "metadata": {},
   "outputs": [],
   "source": []
  }
 ],
 "metadata": {
  "kernelspec": {
   "display_name": "dev_env",
   "language": "python",
   "name": "dev_env"
  },
  "language_info": {
   "codemirror_mode": {
    "name": "ipython",
    "version": 3
   },
   "file_extension": ".py",
   "mimetype": "text/x-python",
   "name": "python",
   "nbconvert_exporter": "python",
   "pygments_lexer": "ipython3",
   "version": "3.10.12"
  }
 },
 "nbformat": 4,
 "nbformat_minor": 5
}
