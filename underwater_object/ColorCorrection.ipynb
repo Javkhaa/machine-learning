{
 "cells": [
  {
   "cell_type": "code",
   "execution_count": 1,
   "id": "ed355cba-b422-4561-a848-2d95099a7b55",
   "metadata": {
    "execution": {
     "iopub.execute_input": "2024-03-02T03:13:02.161059Z",
     "iopub.status.busy": "2024-03-02T03:13:02.160595Z",
     "iopub.status.idle": "2024-03-02T03:13:02.233994Z",
     "shell.execute_reply": "2024-03-02T03:13:02.233637Z",
     "shell.execute_reply.started": "2024-03-02T03:13:02.161033Z"
    }
   },
   "outputs": [],
   "source": [
    "import cv2 as cv"
   ]
  },
  {
   "cell_type": "code",
   "execution_count": null,
   "id": "7f342f98-cb07-4f29-9a2b-e6b3f5b5acec",
   "metadata": {},
   "outputs": [],
   "source": []
  }
 ],
 "metadata": {
  "kernelspec": {
   "display_name": "dev_env",
   "language": "python",
   "name": "dev_env"
  },
  "language_info": {
   "codemirror_mode": {
    "name": "ipython",
    "version": 3
   },
   "file_extension": ".py",
   "mimetype": "text/x-python",
   "name": "python",
   "nbconvert_exporter": "python",
   "pygments_lexer": "ipython3",
   "version": "3.10.12"
  }
 },
 "nbformat": 4,
 "nbformat_minor": 5
}
