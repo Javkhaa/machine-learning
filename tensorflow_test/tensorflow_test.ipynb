{
 "cells": [
  {
   "cell_type": "code",
   "execution_count": 6,
   "metadata": {},
   "outputs": [
    {
     "name": "stdout",
     "output_type": "stream",
     "text": [
      "Epoch 1/10\n"
     ]
    },
    {
     "name": "stderr",
     "output_type": "stream",
     "text": [
      "2023-08-02 22:51:08.686173: I tensorflow/core/grappler/optimizers/custom_graph_optimizer_registry.cc:114] Plugin optimizer for device_type GPU is enabled.\n"
     ]
    },
    {
     "name": "stdout",
     "output_type": "stream",
     "text": [
      "49/49 [==============================] - 25s 424ms/step - loss: 4.6060 - accuracy: 0.0592\n",
      "Epoch 2/10\n",
      "49/49 [==============================] - 19s 386ms/step - loss: 3.6493 - accuracy: 0.1522\n",
      "Epoch 3/10\n",
      "49/49 [==============================] - 19s 395ms/step - loss: 3.2430 - accuracy: 0.2247\n",
      "Epoch 4/10\n",
      "49/49 [==============================] - 20s 399ms/step - loss: 2.8869 - accuracy: 0.2904\n",
      "Epoch 5/10\n",
      "49/49 [==============================] - 20s 404ms/step - loss: 2.6266 - accuracy: 0.3414\n",
      "Epoch 6/10\n",
      "49/49 [==============================] - 20s 407ms/step - loss: 2.8386 - accuracy: 0.3012\n",
      "Epoch 7/10\n",
      "49/49 [==============================] - 20s 408ms/step - loss: 2.4004 - accuracy: 0.3856\n",
      "Epoch 8/10\n",
      "49/49 [==============================] - 20s 410ms/step - loss: 2.1136 - accuracy: 0.4537\n",
      "Epoch 9/10\n",
      "49/49 [==============================] - 20s 417ms/step - loss: 3.2422 - accuracy: 0.2648\n",
      "Epoch 10/10\n",
      "49/49 [==============================] - 20s 408ms/step - loss: 2.7945 - accuracy: 0.3098\n"
     ]
    },
    {
     "data": {
      "text/plain": [
       "<keras.src.callbacks.History at 0x3420665f0>"
      ]
     },
     "execution_count": 6,
     "metadata": {},
     "output_type": "execute_result"
    }
   ],
   "source": [
    "\"\"\"\n",
    "You might get warning saying \n",
    "\n",
    "2023-08-02 22:43:00.517247: I tensorflow/core/common_runtime/pluggable_device/pluggable_device_factory.cc:303] \n",
    "Could not identify NUMA node of platform GPU ID 0, defaulting to 0. Your kernel may not have been built with NUMA support.\n",
    "2023-08-02 22:43:00.517278: I tensorflow/core/common_runtime/pluggable_device/pluggable_device_factory.cc:269] \n",
    "Created TensorFlow device (/job:localhost/replica:0/task:0/device:GPU:0 with 0 MB memory) -> physical PluggableDevice \n",
    "(device: 0, name: METAL, pci bus id: <undefined>)\n",
    "\n",
    "\"\"\"\n",
    "\n",
    "import tensorflow as tf\n",
    "\n",
    "cifar = tf.keras.datasets.cifar100\n",
    "(x_train, y_train), (x_test, y_test) = cifar.load_data()\n",
    "\n",
    "model = tf.keras.applications.ResNet50(\n",
    "    include_top=True,\n",
    "    weights=None,\n",
    "    input_shape=(32, 32, 3),\n",
    "    classes=100,)\n",
    "\n",
    "loss_fn = tf.keras.losses.SparseCategoricalCrossentropy(from_logits=False)\n",
    "model.compile(optimizer=\"adam\", loss=loss_fn, metrics=[\"accuracy\"])\n",
    "model.fit(x_train, y_train, epochs=10, batch_size=1024)\n",
    "\n"
   ]
  },
  {
   "cell_type": "code",
   "execution_count": 21,
   "metadata": {},
   "outputs": [
    {
     "name": "stdout",
     "output_type": "stream",
     "text": [
      "Python Platform: macOS-13.4.1-arm64-arm-64bit\n",
      "Tensor Flow Version: 2.13.0\n",
      "\n",
      "Python 3.10.12 (main, Jun 20 2023, 19:43:52) [Clang 14.0.3 (clang-1403.0.22.14.1)]\n",
      "Pandas 2.0.3\n",
      "Scikit-Learn 1.3.0\n",
      "SciPy 1.11.1\n",
      "GPU is available\n"
     ]
    }
   ],
   "source": [
    "import sys\n",
    "import pandas as pd\n",
    "import sklearn as sk\n",
    "import scipy as sp\n",
    "import tensorflow as tf\n",
    "import platform\n",
    "print(f\"Python Platform: {platform.platform()}\")\n",
    "print(f\"Tensor Flow Version: {tf.__version__}\")\n",
    "# print(f\"Keras Version: {tensorflow.keras.__version__}\")\n",
    "print()\n",
    "print(f\"Python {sys.version}\")\n",
    "print(f\"Pandas {pd.__version__}\")\n",
    "print(f\"Scikit-Learn {sk.__version__}\")\n",
    "print(f\"SciPy {sp.__version__}\")\n",
    "gpu = len(tf.config.list_physical_devices('GPU'))>0\n",
    "print(\"GPU is\", \"available\" if gpu else \"NOT AVAILABLE\")"
   ]
  },
  {
   "cell_type": "code",
   "execution_count": 19,
   "metadata": {},
   "outputs": [
    {
     "data": {
      "text/plain": [
       "'2.13.0'"
      ]
     },
     "execution_count": 19,
     "metadata": {},
     "output_type": "execute_result"
    }
   ],
   "source": [
    "tf.version.VERSION"
   ]
  },
  {
   "cell_type": "code",
   "execution_count": null,
   "metadata": {},
   "outputs": [],
   "source": []
  }
 ],
 "metadata": {
  "kernelspec": {
   "display_name": "tensorflow",
   "language": "python",
   "name": "python3"
  },
  "language_info": {
   "codemirror_mode": {
    "name": "ipython",
    "version": 3
   },
   "file_extension": ".py",
   "mimetype": "text/x-python",
   "name": "python",
   "nbconvert_exporter": "python",
   "pygments_lexer": "ipython3",
   "version": "3.10.12"
  },
  "orig_nbformat": 4
 },
 "nbformat": 4,
 "nbformat_minor": 2
}
