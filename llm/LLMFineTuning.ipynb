{
 "cells": [
  {
   "cell_type": "code",
   "execution_count": 2,
   "id": "066ea934-eef9-46cf-a613-265eac6020ba",
   "metadata": {
    "execution": {
     "iopub.execute_input": "2024-03-02T13:02:37.689669Z",
     "iopub.status.busy": "2024-03-02T13:02:37.689042Z",
     "iopub.status.idle": "2024-03-02T13:02:37.716831Z",
     "shell.execute_reply": "2024-03-02T13:02:37.716250Z",
     "shell.execute_reply.started": "2024-03-02T13:02:37.689628Z"
    }
   },
   "outputs": [],
   "source": [
    "# GMAIL data\n",
    "\n",
    "gmail_data_dir = \"/Users/javkhlan-ochirganbat/GMAIL_DATA/\""
   ]
  },
  {
   "cell_type": "code",
   "execution_count": 3,
   "id": "4a1117ba-73f1-46d4-84f7-3b6b588fc828",
   "metadata": {
    "execution": {
     "iopub.execute_input": "2024-03-02T13:02:38.070727Z",
     "iopub.status.busy": "2024-03-02T13:02:38.070183Z",
     "iopub.status.idle": "2024-03-02T13:02:38.201727Z",
     "shell.execute_reply": "2024-03-02T13:02:38.201327Z",
     "shell.execute_reply.started": "2024-03-02T13:02:38.070695Z"
    }
   },
   "outputs": [],
   "source": [
    "all_files = []\n",
    "for (top_dir, subfolder, files) in os.walk(gmail_data_dir):\n",
    "    for file in files:\n",
    "        if \".DS_Store\" not in file:\n",
    "            all_files.append(os.path.join(top_dir, file))\n"
   ]
  },
  {
   "cell_type": "code",
   "execution_count": 4,
   "id": "8618ca88-aa60-459d-a98f-a748f5eb19f0",
   "metadata": {
    "execution": {
     "iopub.execute_input": "2024-03-02T13:02:39.013581Z",
     "iopub.status.busy": "2024-03-02T13:02:39.013100Z",
     "iopub.status.idle": "2024-03-02T13:02:39.961008Z",
     "shell.execute_reply": "2024-03-02T13:02:39.960656Z",
     "shell.execute_reply.started": "2024-03-02T13:02:39.013547Z"
    }
   },
   "outputs": [
    {
     "name": "stdout",
     "output_type": "stream",
     "text": [
      "Skipping file:  /Users/javkhlan-ochirganbat/GMAIL_DATA/Maps/Requests for services/Requests for services.json\n",
      "Skipping file:  /Users/javkhlan-ochirganbat/GMAIL_DATA/GooglePay/Rewards earned/Voucher Rewards.json\n"
     ]
    }
   ],
   "source": [
    "import json\n",
    "\n",
    "json_content = {}\n",
    "csv_content = {}\n",
    "for file in all_files:\n",
    "    if file.endswith(\".json\"):\n",
    "        with open(file) as infile:\n",
    "            try:\n",
    "                json_content[file] = json.load(infile)\n",
    "            except json.JSONDecodeError:\n",
    "                print(\"Skipping file: \", file)\n",
    "                continue\n",
    "    elif file.endswith(\".csv\"):\n",
    "        csv_content[file] = pd.read_csv(file)\n",
    "    "
   ]
  },
  {
   "cell_type": "code",
   "execution_count": 37,
   "id": "0060e2b8-cefe-43e8-b8f7-d6a5cf650f10",
   "metadata": {
    "execution": {
     "iopub.execute_input": "2024-03-02T13:44:03.436001Z",
     "iopub.status.busy": "2024-03-02T13:44:03.435572Z",
     "iopub.status.idle": "2024-03-02T13:44:03.458064Z",
     "shell.execute_reply": "2024-03-02T13:44:03.457262Z",
     "shell.execute_reply.started": "2024-03-02T13:44:03.435970Z"
    }
   },
   "outputs": [],
   "source": [
    "def get_search_term(elem):\n",
    "    title = elem[\"title\"]\n",
    "    search_term = title.split(\" - \")[0]\n",
    "    return search_term"
   ]
  },
  {
   "cell_type": "code",
   "execution_count": 38,
   "id": "f31b71d7-db76-4762-9a36-af69e1cd67bb",
   "metadata": {
    "execution": {
     "iopub.execute_input": "2024-03-02T13:44:03.945392Z",
     "iopub.status.busy": "2024-03-02T13:44:03.945051Z",
     "iopub.status.idle": "2024-03-02T13:44:04.048584Z",
     "shell.execute_reply": "2024-03-02T13:44:04.048081Z",
     "shell.execute_reply.started": "2024-03-02T13:44:03.945365Z"
    }
   },
   "outputs": [],
   "source": [
    "from collections import defaultdict\n",
    "\n",
    "json_content[\"/Users/javkhlan-ochirganbat/GMAIL_DATA/Chrome/History.json\"][\"Browser History\"][0]\n",
    "\n",
    "browser_history_title = defaultdict(list)\n",
    "\n",
    "for elem in json_content[\"/Users/javkhlan-ochirganbat/GMAIL_DATA/Chrome/History.json\"][\"Browser History\"]:\n",
    "    title = elem[\"title\"]\n",
    "    if \"youtube\" in title.lower():\n",
    "        browser_history_title[\"YouTube\"].append(title)\n",
    "    elif \"javkhlanochirganbat@gmail.com\" in title.lower():\n",
    "        browser_history_title[\"javkhlanochirganbat@gmail.com\"].append(title)\n",
    "    elif \"google search\" in title.lower():\n",
    "        search_term = get_search_term(elem)\n",
    "        browser_history_title[\"google search\"].append(title.split(\" - \")[0])\n",
    "    else:       \n",
    "        browser_history_title[title].append(elem[\"url\"])"
   ]
  },
  {
   "cell_type": "code",
   "execution_count": 39,
   "id": "e51e8bad-49e5-4cd9-93e5-52052995e512",
   "metadata": {
    "execution": {
     "iopub.execute_input": "2024-03-02T13:44:05.583507Z",
     "iopub.status.busy": "2024-03-02T13:44:05.582915Z",
     "iopub.status.idle": "2024-03-02T13:44:05.612928Z",
     "shell.execute_reply": "2024-03-02T13:44:05.611820Z",
     "shell.execute_reply.started": "2024-03-02T13:44:05.583470Z"
    }
   },
   "outputs": [],
   "source": [
    "browser_history_title = {k:v for k,v in sorted(browser_history_title.items(), key=lambda x: len(x[1]), reverse=True)}"
   ]
  },
  {
   "cell_type": "code",
   "execution_count": 61,
   "id": "667c5058-6b61-4c8f-9924-c3000b690095",
   "metadata": {
    "execution": {
     "iopub.execute_input": "2024-03-02T14:16:24.905571Z",
     "iopub.status.busy": "2024-03-02T14:16:24.905018Z",
     "iopub.status.idle": "2024-03-02T14:16:24.934526Z",
     "shell.execute_reply": "2024-03-02T14:16:24.934082Z",
     "shell.execute_reply.started": "2024-03-02T14:16:24.905538Z"
    }
   },
   "outputs": [
    {
     "data": {
      "text/plain": [
       "{'tab_node_id': 96,\n",
       " 'tab': {'current_navigation_index': 5,\n",
       "  'tab_id': 1160412381,\n",
       "  'pinned': False,\n",
       "  'navigation': [{'navigation_from_address_bar': False,\n",
       "    'unique_id': 274,\n",
       "    'navigation_forward_back': False,\n",
       "    'http_status_code': 0,\n",
       "    'global_id': 13317844337107141,\n",
       "    'page_transition': 'RELOAD',\n",
       "    'task_id': -1,\n",
       "    'title': 'New Tab',\n",
       "    'timestamp_msec': 1673370737107,\n",
       "    'password_state': 'PASSWORD_STATE_UNKNOWN',\n",
       "    'referrer': '',\n",
       "    'virtual_url': 'chrome://newtab/',\n",
       "    'is_restored': False,\n",
       "    'correct_referrer_policy': 1,\n",
       "    'navigation_home_page': False,\n",
       "    'ancestor_task_id': [-1, -1]},\n",
       "   {'navigation_from_address_bar': False,\n",
       "    'unique_id': 275,\n",
       "    'navigation_forward_back': False,\n",
       "    'http_status_code': 0,\n",
       "    'global_id': 13317844337107168,\n",
       "    'page_transition': 'RELOAD',\n",
       "    'task_id': -1,\n",
       "    'title': 'mit technology review - Google Search',\n",
       "    'timestamp_msec': 1673370737107,\n",
       "    'password_state': 'PASSWORD_STATE_UNKNOWN',\n",
       "    'referrer': 'about://newtab/',\n",
       "    'virtual_url': 'https://www.google.com/search?q=mit+technology+review&rlz=1CDGOYI_enUS827US827&oq=mit&aqs=chrome.1.69i57j35i39j46i433i512j46i131i199i433i465i512j69i65l2.1349j0j7&hl=en-US&sourceid=chrome-mobile&ie=UTF-8',\n",
       "    'is_restored': False,\n",
       "    'correct_referrer_policy': 0,\n",
       "    'navigation_home_page': False,\n",
       "    'ancestor_task_id': [-1, -1]},\n",
       "   {'navigation_from_address_bar': False,\n",
       "    'unique_id': 276,\n",
       "    'navigation_forward_back': False,\n",
       "    'http_status_code': 0,\n",
       "    'global_id': 13317844337107191,\n",
       "    'page_transition': 'RELOAD',\n",
       "    'task_id': -1,\n",
       "    'title': 'MIT Technology Review',\n",
       "    'timestamp_msec': 1673370737107,\n",
       "    'password_state': 'PASSWORD_STATE_UNKNOWN',\n",
       "    'referrer': 'https://www.google.com/search?q=mit+technology+review&rlz=1CDGOYI_enUS827US827&oq=mit&aqs=chrome.1.69i57j35i39j46i433i512j46i131i199i433i465i512j69i65l2.1349j0j7&hl=en-US&sourceid=chrome-mobile&ie=UTF-8',\n",
       "    'virtual_url': 'https://www.technologyreview.com/?gclid=Cj0KCQiAtvSdBhD0ARIsAPf8oNktlpkiXNc_zXXnl7h5rP5REDv5kWFEl5atKJCVjAnNUo9ljKol3OUaApYdEALw_wcB',\n",
       "    'is_restored': False,\n",
       "    'correct_referrer_policy': 0,\n",
       "    'navigation_home_page': False,\n",
       "    'ancestor_task_id': [-1, -1]},\n",
       "   {'navigation_from_address_bar': False,\n",
       "    'unique_id': 277,\n",
       "    'navigation_forward_back': False,\n",
       "    'http_status_code': 0,\n",
       "    'global_id': 13317844337107212,\n",
       "    'page_transition': 'RELOAD',\n",
       "    'task_id': -1,\n",
       "    'title': 'The Innovation Issue | MIT Technology Review',\n",
       "    'timestamp_msec': 1673370737107,\n",
       "    'password_state': 'PASSWORD_STATE_UNKNOWN',\n",
       "    'referrer': 'https://www.technologyreview.com/?gclid=Cj0KCQiAtvSdBhD0ARIsAPf8oNktlpkiXNc_zXXnl7h5rP5REDv5kWFEl5atKJCVjAnNUo9ljKol3OUaApYdEALw_wcB',\n",
       "    'virtual_url': 'https://www.technologyreview.com/magazines/the-innovation-issue/',\n",
       "    'is_restored': False,\n",
       "    'correct_referrer_policy': 0,\n",
       "    'navigation_home_page': False,\n",
       "    'ancestor_task_id': [-1, -1]},\n",
       "   {'navigation_from_address_bar': False,\n",
       "    'unique_id': 278,\n",
       "    'navigation_forward_back': False,\n",
       "    'http_status_code': 0,\n",
       "    'global_id': 13317844348791264,\n",
       "    'page_transition': 'RELOAD',\n",
       "    'task_id': -1,\n",
       "    'title': '',\n",
       "    'timestamp_msec': 1673370748791,\n",
       "    'password_state': 'PASSWORD_STATE_UNKNOWN',\n",
       "    'referrer': 'https://www.technologyreview.com/magazines/the-innovation-issue/',\n",
       "    'virtual_url': 'https://www.technologyreview.com/magazines/the-innovation-issue/#features',\n",
       "    'is_restored': False,\n",
       "    'correct_referrer_policy': 0,\n",
       "    'navigation_home_page': False,\n",
       "    'ancestor_task_id': [-1, -1]},\n",
       "   {'navigation_from_address_bar': False,\n",
       "    'unique_id': 279,\n",
       "    'navigation_forward_back': False,\n",
       "    'http_status_code': 0,\n",
       "    'global_id': 13317844350354403,\n",
       "    'page_transition': 'RELOAD',\n",
       "    'task_id': -1,\n",
       "    'title': '10 Breakthrough Technologies 2023 | MIT Technolog…',\n",
       "    'timestamp_msec': 1673370750354,\n",
       "    'password_state': 'PASSWORD_STATE_UNKNOWN',\n",
       "    'referrer': 'https://www.technologyreview.com/magazines/the-innovation-issue/#features',\n",
       "    'virtual_url': 'https://www.technologyreview.com/2023/01/09/1066394/10-breakthrough-technologies-2023/',\n",
       "    'is_restored': False,\n",
       "    'correct_referrer_policy': 0,\n",
       "    'navigation_home_page': False,\n",
       "    'ancestor_task_id': [-1, -1]}],\n",
       "  'extension_app_id': '',\n",
       "  'browser_type': 'TYPE_TABBED',\n",
       "  'window_id': 1160688810,\n",
       "  'tab_visual_index': 0},\n",
       " 'session_tag': 'session_syncEOj2IYVZ81No64ihoMm1BA=='}"
      ]
     },
     "execution_count": 61,
     "metadata": {},
     "output_type": "execute_result"
    }
   ],
   "source": [
    "json_content[\"/Users/javkhlan-ochirganbat/GMAIL_DATA/Chrome/History.json\"][\"Session\"][2]"
   ]
  },
  {
   "cell_type": "code",
   "execution_count": 43,
   "id": "53690fb9-b15c-42a7-9e2d-795f94e61b26",
   "metadata": {
    "execution": {
     "iopub.execute_input": "2024-03-02T13:44:30.721161Z",
     "iopub.status.busy": "2024-03-02T13:44:30.720565Z",
     "iopub.status.idle": "2024-03-02T13:44:30.744171Z",
     "shell.execute_reply": "2024-03-02T13:44:30.743580Z",
     "shell.execute_reply.started": "2024-03-02T13:44:30.721126Z"
    },
    "scrolled": true
   },
   "outputs": [],
   "source": [
    "search_terms = Counter(browser_history_title[\"google search\"])\n"
   ]
  },
  {
   "cell_type": "code",
   "execution_count": 70,
   "id": "01b3e256-06c9-4cfb-bd91-ded222f1ca46",
   "metadata": {
    "execution": {
     "iopub.execute_input": "2024-03-02T15:03:26.234875Z",
     "iopub.status.busy": "2024-03-02T15:03:26.232828Z",
     "iopub.status.idle": "2024-03-02T15:03:26.266142Z",
     "shell.execute_reply": "2024-03-02T15:03:26.265545Z",
     "shell.execute_reply.started": "2024-03-02T15:03:26.234774Z"
    }
   },
   "outputs": [
    {
     "data": {
      "text/plain": [
       "2436"
      ]
     },
     "execution_count": 70,
     "metadata": {},
     "output_type": "execute_result"
    }
   ],
   "source": [
    "len(search_terms.keys())"
   ]
  },
  {
   "cell_type": "code",
   "execution_count": 64,
   "id": "880a03a4-3e4a-4758-a246-cffb4ae89df5",
   "metadata": {
    "execution": {
     "iopub.execute_input": "2024-03-02T14:50:45.843106Z",
     "iopub.status.busy": "2024-03-02T14:50:45.842541Z",
     "iopub.status.idle": "2024-03-02T14:50:45.863540Z",
     "shell.execute_reply": "2024-03-02T14:50:45.862903Z",
     "shell.execute_reply.started": "2024-03-02T14:50:45.843076Z"
    }
   },
   "outputs": [
    {
     "name": "stdout",
     "output_type": "stream",
     "text": [
      "/Users/javkhlan-ochirganbat/GMAIL_DATA/Saved/Favorite pages.csv\n",
      "/Users/javkhlan-ochirganbat/GMAIL_DATA/Saved/Restaurant.csv\n",
      "/Users/javkhlan-ochirganbat/GMAIL_DATA/Saved/SavedPlaces.csv\n",
      "/Users/javkhlan-ochirganbat/GMAIL_DATA/Saved/Want to go.csv\n",
      "/Users/javkhlan-ochirganbat/GMAIL_DATA/Maps/Your local followed places/Your local followed places.csv\n",
      "/Users/javkhlan-ochirganbat/GMAIL_DATA/Maps/Your personalization feedback/Your personalization feedback.csv\n",
      "/Users/javkhlan-ochirganbat/GMAIL_DATA/Discover/Your Follows.csv\n",
      "/Users/javkhlan-ochirganbat/GMAIL_DATA/Discover/Not Interested Setting.csv\n",
      "/Users/javkhlan-ochirganbat/GMAIL_DATA/Discover/Your Liked Content.csv\n",
      "/Users/javkhlan-ochirganbat/GMAIL_DATA/Fit/Daily activity metrics/2015-09-26.csv\n",
      "/Users/javkhlan-ochirganbat/GMAIL_DATA/Fit/Daily activity metrics/2015-10-13.csv\n",
      "/Users/javkhlan-ochirganbat/GMAIL_DATA/Fit/Daily activity metrics/2015-10-07.csv\n",
      "/Users/javkhlan-ochirganbat/GMAIL_DATA/Fit/Daily activity metrics/2015-10-06.csv\n",
      "/Users/javkhlan-ochirganbat/GMAIL_DATA/Fit/Daily activity metrics/2015-10-12.csv\n",
      "/Users/javkhlan-ochirganbat/GMAIL_DATA/Fit/Daily activity metrics/2015-09-27.csv\n",
      "/Users/javkhlan-ochirganbat/GMAIL_DATA/Fit/Daily activity metrics/2015-09-25.csv\n",
      "/Users/javkhlan-ochirganbat/GMAIL_DATA/Fit/Daily activity metrics/2015-09-19.csv\n",
      "/Users/javkhlan-ochirganbat/GMAIL_DATA/Fit/Daily activity metrics/2015-10-04.csv\n",
      "/Users/javkhlan-ochirganbat/GMAIL_DATA/Fit/Daily activity metrics/2015-10-10.csv\n",
      "/Users/javkhlan-ochirganbat/GMAIL_DATA/Fit/Daily activity metrics/2015-10-11.csv\n",
      "/Users/javkhlan-ochirganbat/GMAIL_DATA/Fit/Daily activity metrics/2015-10-05.csv\n",
      "/Users/javkhlan-ochirganbat/GMAIL_DATA/Fit/Daily activity metrics/2015-09-18.csv\n",
      "/Users/javkhlan-ochirganbat/GMAIL_DATA/Fit/Daily activity metrics/2015-09-24.csv\n",
      "/Users/javkhlan-ochirganbat/GMAIL_DATA/Fit/Daily activity metrics/2015-09-30.csv\n",
      "/Users/javkhlan-ochirganbat/GMAIL_DATA/Fit/Daily activity metrics/2015-09-08.csv\n",
      "/Users/javkhlan-ochirganbat/GMAIL_DATA/Fit/Daily activity metrics/2015-09-20.csv\n",
      "/Users/javkhlan-ochirganbat/GMAIL_DATA/Fit/Daily activity metrics/2015-10-01.csv\n",
      "/Users/javkhlan-ochirganbat/GMAIL_DATA/Fit/Daily activity metrics/2015-09-21.csv\n",
      "/Users/javkhlan-ochirganbat/GMAIL_DATA/Fit/Daily activity metrics/2015-09-09.csv\n",
      "/Users/javkhlan-ochirganbat/GMAIL_DATA/Fit/Daily activity metrics/2015-09-23.csv\n",
      "/Users/javkhlan-ochirganbat/GMAIL_DATA/Fit/Daily activity metrics/2015-10-02.csv\n",
      "/Users/javkhlan-ochirganbat/GMAIL_DATA/Fit/Daily activity metrics/2015-10-03.csv\n",
      "/Users/javkhlan-ochirganbat/GMAIL_DATA/Fit/Daily activity metrics/2015-09-22.csv\n",
      "/Users/javkhlan-ochirganbat/GMAIL_DATA/Fit/Daily activity metrics/2015-08-11.csv\n",
      "/Users/javkhlan-ochirganbat/GMAIL_DATA/Fit/Daily activity metrics/2015-08-10.csv\n",
      "/Users/javkhlan-ochirganbat/GMAIL_DATA/Fit/Daily activity metrics/2015-08-12.csv\n",
      "/Users/javkhlan-ochirganbat/GMAIL_DATA/Fit/Daily activity metrics/2015-08-13.csv\n",
      "/Users/javkhlan-ochirganbat/GMAIL_DATA/Fit/Daily activity metrics/2015-08-17.csv\n",
      "/Users/javkhlan-ochirganbat/GMAIL_DATA/Fit/Daily activity metrics/2015-08-16.csv\n",
      "/Users/javkhlan-ochirganbat/GMAIL_DATA/Fit/Daily activity metrics/2015-08-14.csv\n",
      "/Users/javkhlan-ochirganbat/GMAIL_DATA/Fit/Daily activity metrics/2015-08-28.csv\n",
      "/Users/javkhlan-ochirganbat/GMAIL_DATA/Fit/Daily activity metrics/2015-08-29.csv\n",
      "/Users/javkhlan-ochirganbat/GMAIL_DATA/Fit/Daily activity metrics/2015-08-15.csv\n",
      "/Users/javkhlan-ochirganbat/GMAIL_DATA/Fit/Daily activity metrics/2015-08-18.csv\n",
      "/Users/javkhlan-ochirganbat/GMAIL_DATA/Fit/Daily activity metrics/2015-08-30.csv\n",
      "/Users/javkhlan-ochirganbat/GMAIL_DATA/Fit/Daily activity metrics/2015-08-24.csv\n",
      "/Users/javkhlan-ochirganbat/GMAIL_DATA/Fit/Daily activity metrics/2015-08-25.csv\n",
      "/Users/javkhlan-ochirganbat/GMAIL_DATA/Fit/Daily activity metrics/2015-08-31.csv\n",
      "/Users/javkhlan-ochirganbat/GMAIL_DATA/Fit/Daily activity metrics/2015-08-19.csv\n",
      "/Users/javkhlan-ochirganbat/GMAIL_DATA/Fit/Daily activity metrics/2015-08-27.csv\n",
      "/Users/javkhlan-ochirganbat/GMAIL_DATA/Fit/Daily activity metrics/2015-08-26.csv\n",
      "/Users/javkhlan-ochirganbat/GMAIL_DATA/Fit/Daily activity metrics/2015-08-22.csv\n",
      "/Users/javkhlan-ochirganbat/GMAIL_DATA/Fit/Daily activity metrics/2015-08-23.csv\n",
      "/Users/javkhlan-ochirganbat/GMAIL_DATA/Fit/Daily activity metrics/2015-08-21.csv\n",
      "/Users/javkhlan-ochirganbat/GMAIL_DATA/Fit/Daily activity metrics/2015-08-09.csv\n",
      "/Users/javkhlan-ochirganbat/GMAIL_DATA/Fit/Daily activity metrics/2015-08-20.csv\n",
      "/Users/javkhlan-ochirganbat/GMAIL_DATA/Fit/Daily activity metrics/2015-09-07.csv\n",
      "/Users/javkhlan-ochirganbat/GMAIL_DATA/Fit/Daily activity metrics/2015-09-13.csv\n",
      "/Users/javkhlan-ochirganbat/GMAIL_DATA/Fit/Daily activity metrics/2015-09-12.csv\n",
      "/Users/javkhlan-ochirganbat/GMAIL_DATA/Fit/Daily activity metrics/2015-09-06.csv\n",
      "/Users/javkhlan-ochirganbat/GMAIL_DATA/Fit/Daily activity metrics/2015-09-10.csv\n",
      "/Users/javkhlan-ochirganbat/GMAIL_DATA/Fit/Daily activity metrics/2015-09-04.csv\n",
      "/Users/javkhlan-ochirganbat/GMAIL_DATA/Fit/Daily activity metrics/2015-09-05.csv\n",
      "/Users/javkhlan-ochirganbat/GMAIL_DATA/Fit/Daily activity metrics/2015-09-11.csv\n",
      "/Users/javkhlan-ochirganbat/GMAIL_DATA/Fit/Daily activity metrics/2015-09-29.csv\n",
      "/Users/javkhlan-ochirganbat/GMAIL_DATA/Fit/Daily activity metrics/2015-09-15.csv\n",
      "/Users/javkhlan-ochirganbat/GMAIL_DATA/Fit/Daily activity metrics/2015-09-01.csv\n",
      "/Users/javkhlan-ochirganbat/GMAIL_DATA/Fit/Daily activity metrics/2015-10-08.csv\n",
      "/Users/javkhlan-ochirganbat/GMAIL_DATA/Fit/Daily activity metrics/2015-10-09.csv\n",
      "/Users/javkhlan-ochirganbat/GMAIL_DATA/Fit/Daily activity metrics/2015-09-14.csv\n",
      "/Users/javkhlan-ochirganbat/GMAIL_DATA/Fit/Daily activity metrics/2015-09-28.csv\n",
      "/Users/javkhlan-ochirganbat/GMAIL_DATA/Fit/Daily activity metrics/2015-09-02.csv\n",
      "/Users/javkhlan-ochirganbat/GMAIL_DATA/Fit/Daily activity metrics/2015-09-16.csv\n",
      "/Users/javkhlan-ochirganbat/GMAIL_DATA/Fit/Daily activity metrics/2015-09-17.csv\n",
      "/Users/javkhlan-ochirganbat/GMAIL_DATA/Fit/Daily activity metrics/2015-09-03.csv\n",
      "/Users/javkhlan-ochirganbat/GMAIL_DATA/Access_Log_Activity/Activities - A list of Google services accessed by.csv\n",
      "/Users/javkhlan-ochirganbat/GMAIL_DATA/Access_Log_Activity/Devices - A list of devices (i.e. Nest, Pixel, iPh.csv\n",
      "/Users/javkhlan-ochirganbat/GMAIL_DATA/GooglePay/Rewards earned/Cashback Rewards.csv\n",
      "/Users/javkhlan-ochirganbat/GMAIL_DATA/GooglePay/Money sends and requests/Money sends and requests.csv\n",
      "/Users/javkhlan-ochirganbat/GMAIL_DATA/GooglePay/Google transactions/transactions_447024907882.csv\n",
      "/Users/javkhlan-ochirganbat/GMAIL_DATA/Groups/googlegroups.com/user data/recent activity/recently viewed groups.csv\n",
      "/Users/javkhlan-ochirganbat/GMAIL_DATA/Groups/googlegroups.com/user data/recent activity/recently posted to discussions.csv\n",
      "/Users/javkhlan-ochirganbat/GMAIL_DATA/Groups/googlegroups.com/user data/recent activity/recently posted to groups.csv\n",
      "/Users/javkhlan-ochirganbat/GMAIL_DATA/Groups/googlegroups.com/user data/recent activity/recently viewed discussions.csv\n",
      "/Users/javkhlan-ochirganbat/GMAIL_DATA/Groups/googlegroups.com/user data/recent activity/recent searches.csv\n",
      "/Users/javkhlan-ochirganbat/GMAIL_DATA/YouTube_and_YouTubeMusic/comments/comments.csv\n",
      "/Users/javkhlan-ochirganbat/GMAIL_DATA/YouTube_and_YouTubeMusic/video metadata/video recordings.csv\n",
      "/Users/javkhlan-ochirganbat/GMAIL_DATA/YouTube_and_YouTubeMusic/video metadata/videos.csv\n",
      "/Users/javkhlan-ochirganbat/GMAIL_DATA/YouTube_and_YouTubeMusic/playlists/Watch later-videos.csv\n",
      "/Users/javkhlan-ochirganbat/GMAIL_DATA/YouTube_and_YouTubeMusic/playlists/playlists.csv\n",
      "/Users/javkhlan-ochirganbat/GMAIL_DATA/YouTube_and_YouTubeMusic/playlists/Favorites-videos.csv\n",
      "/Users/javkhlan-ochirganbat/GMAIL_DATA/YouTube_and_YouTubeMusic/playlists/Piano Music-videos.csv\n",
      "/Users/javkhlan-ochirganbat/GMAIL_DATA/YouTube_and_YouTubeMusic/playlists/Workout-videos.csv\n",
      "/Users/javkhlan-ochirganbat/GMAIL_DATA/YouTube_and_YouTubeMusic/music-library-songs/music-library-songs.csv\n",
      "/Users/javkhlan-ochirganbat/GMAIL_DATA/YouTube_and_YouTubeMusic/subscriptions/subscriptions.csv\n",
      "/Users/javkhlan-ochirganbat/GMAIL_DATA/YouTube_and_YouTubeMusic/channels/channel page settings.csv\n",
      "/Users/javkhlan-ochirganbat/GMAIL_DATA/YouTube_and_YouTubeMusic/channels/channel.csv\n",
      "/Users/javkhlan-ochirganbat/GMAIL_DATA/YouTube_and_YouTubeMusic/channels/channel feature data.csv\n",
      "/Users/javkhlan-ochirganbat/GMAIL_DATA/YouTube_and_YouTubeMusic/channels/channel URL configs.csv\n",
      "/Users/javkhlan-ochirganbat/GMAIL_DATA/Chrome/Dictionary.csv\n",
      "/Users/javkhlan-ochirganbat/GMAIL_DATA/Drive/WorkoutExport.csv\n",
      "/Users/javkhlan-ochirganbat/GMAIL_DATA/Drive/Class Folders/CSE 5522/Project/sample_test.csv\n",
      "/Users/javkhlan-ochirganbat/GMAIL_DATA/Drive/Class Folders/CSE 5522/Project/sample_train.csv\n",
      "/Users/javkhlan-ochirganbat/GMAIL_DATA/Drive/Class Folders/CSE 5914/Corpus/Testing/batchQuestion.csv\n",
      "/Users/javkhlan-ochirganbat/GMAIL_DATA/Drive/MYLN/MYLN_MemberInfo_Responses.csv\n",
      "/Users/javkhlan-ochirganbat/GMAIL_DATA/Drive/Jupyter_notebooks/kaggle_covid_data/test.csv\n",
      "/Users/javkhlan-ochirganbat/GMAIL_DATA/Drive/Jupyter_notebooks/kaggle_covid_data/train.csv\n"
     ]
    }
   ],
   "source": [
    "for elem in csv_content.keys():\n",
    "    print(elem)"
   ]
  },
  {
   "cell_type": "code",
   "execution_count": 74,
   "id": "5b9226a5-d172-41a8-85ef-eeb0d596415b",
   "metadata": {
    "execution": {
     "iopub.execute_input": "2024-03-02T15:33:31.766870Z",
     "iopub.status.busy": "2024-03-02T15:33:31.766277Z",
     "iopub.status.idle": "2024-03-02T15:33:31.791045Z",
     "shell.execute_reply": "2024-03-02T15:33:31.790365Z",
     "shell.execute_reply.started": "2024-03-02T15:33:31.766833Z"
    }
   },
   "outputs": [],
   "source": [
    "df = csv_content[\"/Users/javkhlan-ochirganbat/GMAIL_DATA/Drive/WorkoutExport.csv\"]"
   ]
  },
  {
   "cell_type": "code",
   "execution_count": 75,
   "id": "15e27716-0a4f-4585-b05d-51220ef7d1bc",
   "metadata": {
    "execution": {
     "iopub.execute_input": "2024-03-02T15:33:32.957880Z",
     "iopub.status.busy": "2024-03-02T15:33:32.957321Z",
     "iopub.status.idle": "2024-03-02T15:33:32.990694Z",
     "shell.execute_reply": "2024-03-02T15:33:32.990184Z",
     "shell.execute_reply.started": "2024-03-02T15:33:32.957845Z"
    }
   },
   "outputs": [
    {
     "data": {
      "text/html": [
       "<div>\n",
       "<style scoped>\n",
       "    .dataframe tbody tr th:only-of-type {\n",
       "        vertical-align: middle;\n",
       "    }\n",
       "\n",
       "    .dataframe tbody tr th {\n",
       "        vertical-align: top;\n",
       "    }\n",
       "\n",
       "    .dataframe thead th {\n",
       "        text-align: right;\n",
       "    }\n",
       "</style>\n",
       "<table border=\"1\" class=\"dataframe\">\n",
       "  <thead>\n",
       "    <tr style=\"text-align: right;\">\n",
       "      <th></th>\n",
       "      <th>Date</th>\n",
       "      <th>Exercise</th>\n",
       "      <th>Reps</th>\n",
       "      <th>Weight(kg)</th>\n",
       "      <th>Duration(s)</th>\n",
       "      <th>Distance(m)</th>\n",
       "      <th>Incline</th>\n",
       "      <th>Resistance</th>\n",
       "      <th>isWarmup</th>\n",
       "      <th>Note</th>\n",
       "      <th>multiplier</th>\n",
       "    </tr>\n",
       "  </thead>\n",
       "  <tbody>\n",
       "    <tr>\n",
       "      <th>0</th>\n",
       "      <td>2020-11-01 18:26:22 +0000</td>\n",
       "      <td>Back Squat</td>\n",
       "      <td>10</td>\n",
       "      <td>20.411681</td>\n",
       "      <td>0.000000</td>\n",
       "      <td>0.000000</td>\n",
       "      <td>0.0</td>\n",
       "      <td>0.0</td>\n",
       "      <td>True</td>\n",
       "      <td>NaN</td>\n",
       "      <td>1.0</td>\n",
       "    </tr>\n",
       "    <tr>\n",
       "      <th>1</th>\n",
       "      <td>2020-11-01 18:26:22 +0000</td>\n",
       "      <td>Back Squat</td>\n",
       "      <td>8</td>\n",
       "      <td>61.235043</td>\n",
       "      <td>0.000000</td>\n",
       "      <td>0.000000</td>\n",
       "      <td>0.0</td>\n",
       "      <td>0.0</td>\n",
       "      <td>True</td>\n",
       "      <td>NaN</td>\n",
       "      <td>1.0</td>\n",
       "    </tr>\n",
       "    <tr>\n",
       "      <th>2</th>\n",
       "      <td>2020-11-01 18:26:22 +0000</td>\n",
       "      <td>Back Squat</td>\n",
       "      <td>8</td>\n",
       "      <td>74.842830</td>\n",
       "      <td>0.000000</td>\n",
       "      <td>0.000000</td>\n",
       "      <td>0.0</td>\n",
       "      <td>0.0</td>\n",
       "      <td>False</td>\n",
       "      <td>NaN</td>\n",
       "      <td>1.0</td>\n",
       "    </tr>\n",
       "    <tr>\n",
       "      <th>3</th>\n",
       "      <td>2020-11-01 18:26:22 +0000</td>\n",
       "      <td>Back Squat</td>\n",
       "      <td>8</td>\n",
       "      <td>83.914688</td>\n",
       "      <td>0.000000</td>\n",
       "      <td>0.000000</td>\n",
       "      <td>0.0</td>\n",
       "      <td>0.0</td>\n",
       "      <td>False</td>\n",
       "      <td>NaN</td>\n",
       "      <td>1.0</td>\n",
       "    </tr>\n",
       "    <tr>\n",
       "      <th>4</th>\n",
       "      <td>2020-11-01 18:26:22 +0000</td>\n",
       "      <td>Back Squat</td>\n",
       "      <td>8</td>\n",
       "      <td>83.914688</td>\n",
       "      <td>0.000000</td>\n",
       "      <td>0.000000</td>\n",
       "      <td>0.0</td>\n",
       "      <td>0.0</td>\n",
       "      <td>False</td>\n",
       "      <td>NaN</td>\n",
       "      <td>1.0</td>\n",
       "    </tr>\n",
       "    <tr>\n",
       "      <th>...</th>\n",
       "      <td>...</td>\n",
       "      <td>...</td>\n",
       "      <td>...</td>\n",
       "      <td>...</td>\n",
       "      <td>...</td>\n",
       "      <td>...</td>\n",
       "      <td>...</td>\n",
       "      <td>...</td>\n",
       "      <td>...</td>\n",
       "      <td>...</td>\n",
       "      <td>...</td>\n",
       "    </tr>\n",
       "    <tr>\n",
       "      <th>9499</th>\n",
       "      <td>2019-05-31 01:28:30 +0000</td>\n",
       "      <td>Back Extensions</td>\n",
       "      <td>12</td>\n",
       "      <td>0.000000</td>\n",
       "      <td>0.000000</td>\n",
       "      <td>0.000000</td>\n",
       "      <td>0.0</td>\n",
       "      <td>0.0</td>\n",
       "      <td>False</td>\n",
       "      <td>NaN</td>\n",
       "      <td>1.0</td>\n",
       "    </tr>\n",
       "    <tr>\n",
       "      <th>9500</th>\n",
       "      <td>2019-05-31 01:28:30 +0000</td>\n",
       "      <td>Back Extensions</td>\n",
       "      <td>12</td>\n",
       "      <td>0.000000</td>\n",
       "      <td>0.000000</td>\n",
       "      <td>0.000000</td>\n",
       "      <td>0.0</td>\n",
       "      <td>0.0</td>\n",
       "      <td>False</td>\n",
       "      <td>NaN</td>\n",
       "      <td>1.0</td>\n",
       "    </tr>\n",
       "    <tr>\n",
       "      <th>9501</th>\n",
       "      <td>2019-05-31 01:07:31 +0000</td>\n",
       "      <td>Running</td>\n",
       "      <td>0</td>\n",
       "      <td>0.000000</td>\n",
       "      <td>981.599459</td>\n",
       "      <td>2203.078109</td>\n",
       "      <td>0.0</td>\n",
       "      <td>0.0</td>\n",
       "      <td>False</td>\n",
       "      <td>NaN</td>\n",
       "      <td>0.0</td>\n",
       "    </tr>\n",
       "    <tr>\n",
       "      <th>9502</th>\n",
       "      <td>2019-05-30 02:47:08 +0000</td>\n",
       "      <td>Running</td>\n",
       "      <td>0</td>\n",
       "      <td>0.000000</td>\n",
       "      <td>727.571396</td>\n",
       "      <td>1427.220000</td>\n",
       "      <td>0.0</td>\n",
       "      <td>0.0</td>\n",
       "      <td>False</td>\n",
       "      <td>NaN</td>\n",
       "      <td>0.0</td>\n",
       "    </tr>\n",
       "    <tr>\n",
       "      <th>9503</th>\n",
       "      <td>2019-05-27 19:23:05 +0000</td>\n",
       "      <td>Dumbbell Bench Press</td>\n",
       "      <td>8</td>\n",
       "      <td>13.607787</td>\n",
       "      <td>0.000000</td>\n",
       "      <td>0.000000</td>\n",
       "      <td>0.0</td>\n",
       "      <td>0.0</td>\n",
       "      <td>False</td>\n",
       "      <td>NaN</td>\n",
       "      <td>2.0</td>\n",
       "    </tr>\n",
       "  </tbody>\n",
       "</table>\n",
       "<p>9504 rows × 11 columns</p>\n",
       "</div>"
      ],
      "text/plain": [
       "                           Date              Exercise  Reps  Weight(kg)  \\\n",
       "0     2020-11-01 18:26:22 +0000            Back Squat    10   20.411681   \n",
       "1     2020-11-01 18:26:22 +0000            Back Squat     8   61.235043   \n",
       "2     2020-11-01 18:26:22 +0000            Back Squat     8   74.842830   \n",
       "3     2020-11-01 18:26:22 +0000            Back Squat     8   83.914688   \n",
       "4     2020-11-01 18:26:22 +0000            Back Squat     8   83.914688   \n",
       "...                         ...                   ...   ...         ...   \n",
       "9499  2019-05-31 01:28:30 +0000       Back Extensions    12    0.000000   \n",
       "9500  2019-05-31 01:28:30 +0000       Back Extensions    12    0.000000   \n",
       "9501  2019-05-31 01:07:31 +0000               Running     0    0.000000   \n",
       "9502  2019-05-30 02:47:08 +0000               Running     0    0.000000   \n",
       "9503  2019-05-27 19:23:05 +0000  Dumbbell Bench Press     8   13.607787   \n",
       "\n",
       "      Duration(s)  Distance(m)  Incline  Resistance  isWarmup  Note  \\\n",
       "0        0.000000     0.000000      0.0         0.0      True   NaN   \n",
       "1        0.000000     0.000000      0.0         0.0      True   NaN   \n",
       "2        0.000000     0.000000      0.0         0.0     False   NaN   \n",
       "3        0.000000     0.000000      0.0         0.0     False   NaN   \n",
       "4        0.000000     0.000000      0.0         0.0     False   NaN   \n",
       "...           ...          ...      ...         ...       ...   ...   \n",
       "9499     0.000000     0.000000      0.0         0.0     False   NaN   \n",
       "9500     0.000000     0.000000      0.0         0.0     False   NaN   \n",
       "9501   981.599459  2203.078109      0.0         0.0     False   NaN   \n",
       "9502   727.571396  1427.220000      0.0         0.0     False   NaN   \n",
       "9503     0.000000     0.000000      0.0         0.0     False   NaN   \n",
       "\n",
       "      multiplier  \n",
       "0            1.0  \n",
       "1            1.0  \n",
       "2            1.0  \n",
       "3            1.0  \n",
       "4            1.0  \n",
       "...          ...  \n",
       "9499         1.0  \n",
       "9500         1.0  \n",
       "9501         0.0  \n",
       "9502         0.0  \n",
       "9503         2.0  \n",
       "\n",
       "[9504 rows x 11 columns]"
      ]
     },
     "execution_count": 75,
     "metadata": {},
     "output_type": "execute_result"
    }
   ],
   "source": [
    "df"
   ]
  },
  {
   "cell_type": "code",
   "execution_count": 83,
   "id": "4b06920f-d6a4-4802-b2ba-4fffb0909dec",
   "metadata": {
    "execution": {
     "iopub.execute_input": "2024-03-02T15:36:16.277760Z",
     "iopub.status.busy": "2024-03-02T15:36:16.277362Z",
     "iopub.status.idle": "2024-03-02T15:36:16.301193Z",
     "shell.execute_reply": "2024-03-02T15:36:16.300159Z",
     "shell.execute_reply.started": "2024-03-02T15:36:16.277729Z"
    }
   },
   "outputs": [
    {
     "data": {
      "text/plain": [
       "0       20.411681\n",
       "1       61.235043\n",
       "2       74.842830\n",
       "3       83.914688\n",
       "4       83.914688\n",
       "          ...    \n",
       "8100    40.823362\n",
       "8132    20.411681\n",
       "8133    40.823362\n",
       "8134    40.823362\n",
       "8135    40.823362\n",
       "Name: Weight(kg), Length: 222, dtype: float64"
      ]
     },
     "execution_count": 83,
     "metadata": {},
     "output_type": "execute_result"
    }
   ],
   "source": [
    "df[df[\"Exercise\"] == \"Back Squat\"][\"Weight(kg)\"]"
   ]
  },
  {
   "cell_type": "code",
   "execution_count": null,
   "id": "61353080-c209-4d5b-87c6-96e3bbf7b78d",
   "metadata": {},
   "outputs": [],
   "source": []
  },
  {
   "cell_type": "code",
   "execution_count": null,
   "id": "bf0970b1-3507-423d-8568-782c00f9ceb7",
   "metadata": {},
   "outputs": [],
   "source": []
  },
  {
   "cell_type": "code",
   "execution_count": null,
   "id": "d05ac888-39df-40d1-9170-6b94d52546f5",
   "metadata": {},
   "outputs": [],
   "source": []
  },
  {
   "cell_type": "code",
   "execution_count": null,
   "id": "ae92dec9-6198-44ec-a3c0-22d5dfd8ee54",
   "metadata": {},
   "outputs": [],
   "source": []
  }
 ],
 "metadata": {
  "kernelspec": {
   "display_name": "huggingface",
   "language": "python",
   "name": "huggingface"
  },
  "language_info": {
   "codemirror_mode": {
    "name": "ipython",
    "version": 3
   },
   "file_extension": ".py",
   "mimetype": "text/x-python",
   "name": "python",
   "nbconvert_exporter": "python",
   "pygments_lexer": "ipython3",
   "version": "3.10.12"
  }
 },
 "nbformat": 4,
 "nbformat_minor": 5
}
